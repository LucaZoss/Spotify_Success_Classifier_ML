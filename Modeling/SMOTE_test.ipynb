{
 "cells": [
  {
   "cell_type": "code",
   "execution_count": 4,
   "metadata": {},
   "outputs": [
    {
     "data": {
      "text/html": [
       "<div>\n",
       "<style scoped>\n",
       "    .dataframe tbody tr th:only-of-type {\n",
       "        vertical-align: middle;\n",
       "    }\n",
       "\n",
       "    .dataframe tbody tr th {\n",
       "        vertical-align: top;\n",
       "    }\n",
       "\n",
       "    .dataframe thead th {\n",
       "        text-align: right;\n",
       "    }\n",
       "</style>\n",
       "<table border=\"1\" class=\"dataframe\">\n",
       "  <thead>\n",
       "    <tr style=\"text-align: right;\">\n",
       "      <th></th>\n",
       "      <th>artist_popularity</th>\n",
       "      <th>track_age_2024</th>\n",
       "      <th>danceability</th>\n",
       "      <th>energy</th>\n",
       "      <th>loudness</th>\n",
       "      <th>speechiness</th>\n",
       "      <th>acousticness</th>\n",
       "      <th>instrumentalness</th>\n",
       "      <th>liveness</th>\n",
       "      <th>valence</th>\n",
       "      <th>...</th>\n",
       "      <th>tone_EMaj</th>\n",
       "      <th>tone_Emin</th>\n",
       "      <th>tone_F#Maj</th>\n",
       "      <th>tone_F#min</th>\n",
       "      <th>tone_FMaj</th>\n",
       "      <th>tone_Fmin</th>\n",
       "      <th>tone_G#Maj</th>\n",
       "      <th>tone_G#min</th>\n",
       "      <th>tone_GMaj</th>\n",
       "      <th>tone_Gmin</th>\n",
       "    </tr>\n",
       "    <tr>\n",
       "      <th>song_id</th>\n",
       "      <th></th>\n",
       "      <th></th>\n",
       "      <th></th>\n",
       "      <th></th>\n",
       "      <th></th>\n",
       "      <th></th>\n",
       "      <th></th>\n",
       "      <th></th>\n",
       "      <th></th>\n",
       "      <th></th>\n",
       "      <th></th>\n",
       "      <th></th>\n",
       "      <th></th>\n",
       "      <th></th>\n",
       "      <th></th>\n",
       "      <th></th>\n",
       "      <th></th>\n",
       "      <th></th>\n",
       "      <th></th>\n",
       "      <th></th>\n",
       "      <th></th>\n",
       "    </tr>\n",
       "  </thead>\n",
       "  <tbody>\n",
       "    <tr>\n",
       "      <th>0</th>\n",
       "      <td>86</td>\n",
       "      <td>24</td>\n",
       "      <td>0.429</td>\n",
       "      <td>0.661</td>\n",
       "      <td>85</td>\n",
       "      <td>0.0281</td>\n",
       "      <td>0.00239</td>\n",
       "      <td>0.000121</td>\n",
       "      <td>0.2340</td>\n",
       "      <td>0.285</td>\n",
       "      <td>...</td>\n",
       "      <td>0</td>\n",
       "      <td>0</td>\n",
       "      <td>0</td>\n",
       "      <td>0</td>\n",
       "      <td>0</td>\n",
       "      <td>0</td>\n",
       "      <td>0</td>\n",
       "      <td>0</td>\n",
       "      <td>0</td>\n",
       "      <td>0</td>\n",
       "    </tr>\n",
       "    <tr>\n",
       "      <th>1</th>\n",
       "      <td>75</td>\n",
       "      <td>24</td>\n",
       "      <td>0.434</td>\n",
       "      <td>0.897</td>\n",
       "      <td>69</td>\n",
       "      <td>0.0488</td>\n",
       "      <td>0.01030</td>\n",
       "      <td>0.000000</td>\n",
       "      <td>0.6120</td>\n",
       "      <td>0.684</td>\n",
       "      <td>...</td>\n",
       "      <td>0</td>\n",
       "      <td>0</td>\n",
       "      <td>0</td>\n",
       "      <td>0</td>\n",
       "      <td>0</td>\n",
       "      <td>0</td>\n",
       "      <td>0</td>\n",
       "      <td>0</td>\n",
       "      <td>0</td>\n",
       "      <td>0</td>\n",
       "    </tr>\n",
       "    <tr>\n",
       "      <th>2</th>\n",
       "      <td>61</td>\n",
       "      <td>24</td>\n",
       "      <td>0.529</td>\n",
       "      <td>0.496</td>\n",
       "      <td>95</td>\n",
       "      <td>0.0290</td>\n",
       "      <td>0.17300</td>\n",
       "      <td>0.000000</td>\n",
       "      <td>0.2510</td>\n",
       "      <td>0.278</td>\n",
       "      <td>...</td>\n",
       "      <td>0</td>\n",
       "      <td>0</td>\n",
       "      <td>0</td>\n",
       "      <td>0</td>\n",
       "      <td>0</td>\n",
       "      <td>0</td>\n",
       "      <td>0</td>\n",
       "      <td>0</td>\n",
       "      <td>1</td>\n",
       "      <td>0</td>\n",
       "    </tr>\n",
       "    <tr>\n",
       "      <th>3</th>\n",
       "      <td>83</td>\n",
       "      <td>24</td>\n",
       "      <td>0.556</td>\n",
       "      <td>0.864</td>\n",
       "      <td>76</td>\n",
       "      <td>0.0584</td>\n",
       "      <td>0.00958</td>\n",
       "      <td>0.000000</td>\n",
       "      <td>0.2090</td>\n",
       "      <td>0.400</td>\n",
       "      <td>...</td>\n",
       "      <td>0</td>\n",
       "      <td>0</td>\n",
       "      <td>0</td>\n",
       "      <td>0</td>\n",
       "      <td>0</td>\n",
       "      <td>0</td>\n",
       "      <td>0</td>\n",
       "      <td>0</td>\n",
       "      <td>0</td>\n",
       "      <td>0</td>\n",
       "    </tr>\n",
       "    <tr>\n",
       "      <th>4</th>\n",
       "      <td>65</td>\n",
       "      <td>24</td>\n",
       "      <td>0.610</td>\n",
       "      <td>0.926</td>\n",
       "      <td>68</td>\n",
       "      <td>0.0479</td>\n",
       "      <td>0.03100</td>\n",
       "      <td>0.001200</td>\n",
       "      <td>0.0821</td>\n",
       "      <td>0.861</td>\n",
       "      <td>...</td>\n",
       "      <td>0</td>\n",
       "      <td>0</td>\n",
       "      <td>0</td>\n",
       "      <td>0</td>\n",
       "      <td>0</td>\n",
       "      <td>0</td>\n",
       "      <td>0</td>\n",
       "      <td>1</td>\n",
       "      <td>0</td>\n",
       "      <td>0</td>\n",
       "    </tr>\n",
       "  </tbody>\n",
       "</table>\n",
       "<p>5 rows × 51 columns</p>\n",
       "</div>"
      ],
      "text/plain": [
       "         artist_popularity  track_age_2024  danceability  energy  loudness  \\\n",
       "song_id                                                                      \n",
       "0                       86              24         0.429   0.661        85   \n",
       "1                       75              24         0.434   0.897        69   \n",
       "2                       61              24         0.529   0.496        95   \n",
       "3                       83              24         0.556   0.864        76   \n",
       "4                       65              24         0.610   0.926        68   \n",
       "\n",
       "         speechiness  acousticness  instrumentalness  liveness  valence  ...  \\\n",
       "song_id                                                                  ...   \n",
       "0             0.0281       0.00239          0.000121    0.2340    0.285  ...   \n",
       "1             0.0488       0.01030          0.000000    0.6120    0.684  ...   \n",
       "2             0.0290       0.17300          0.000000    0.2510    0.278  ...   \n",
       "3             0.0584       0.00958          0.000000    0.2090    0.400  ...   \n",
       "4             0.0479       0.03100          0.001200    0.0821    0.861  ...   \n",
       "\n",
       "         tone_EMaj  tone_Emin  tone_F#Maj tone_F#min  tone_FMaj  tone_Fmin  \\\n",
       "song_id                                                                      \n",
       "0                0          0           0          0          0          0   \n",
       "1                0          0           0          0          0          0   \n",
       "2                0          0           0          0          0          0   \n",
       "3                0          0           0          0          0          0   \n",
       "4                0          0           0          0          0          0   \n",
       "\n",
       "         tone_G#Maj  tone_G#min  tone_GMaj  tone_Gmin  \n",
       "song_id                                                \n",
       "0                 0           0          0          0  \n",
       "1                 0           0          0          0  \n",
       "2                 0           0          1          0  \n",
       "3                 0           0          0          0  \n",
       "4                 0           1          0          0  \n",
       "\n",
       "[5 rows x 51 columns]"
      ]
     },
     "execution_count": 4,
     "metadata": {},
     "output_type": "execute_result"
    }
   ],
   "source": [
    "from imblearn.over_sampling import SMOTE\n",
    "from sklearn.ensemble import RandomForestClassifier\n",
    "from sklearn.model_selection import train_test_split\n",
    "from sklearn.metrics import classification_report, accuracy_score\n",
    "from sklearn.preprocessing import LabelEncoder\n",
    "import pandas as pd\n",
    "\n",
    "data = pd.read_csv(\"/Users/lucazosso/Desktop/IE_Course/Term_2/Machine Learning II/Group Assignement/data/testing/data_processed_cleaned.csv\", index_col=\"song_id\")\n",
    "data.head()\n"
   ]
  },
  {
   "cell_type": "code",
   "execution_count": 5,
   "metadata": {},
   "outputs": [
    {
     "data": {
      "text/plain": [
       "artist_popularity                 int64\n",
       "track_age_2024                    int64\n",
       "danceability                    float64\n",
       "energy                          float64\n",
       "loudness                          int64\n",
       "speechiness                     float64\n",
       "acousticness                    float64\n",
       "instrumentalness                float64\n",
       "liveness                        float64\n",
       "valence                         float64\n",
       "tempo                           float64\n",
       "duration_ms                       int64\n",
       "track_popularity                  int64\n",
       "song_popularity_labels           object\n",
       "genre_country                     int64\n",
       "genre_folk                        int64\n",
       "genre_hip_hop_rap                 int64\n",
       "genre_house_and_pop_fusion        int64\n",
       "genre_jazz                        int64\n",
       "genre_latin                       int64\n",
       "genre_metal                       int64\n",
       "genre_other                       int64\n",
       "genre_pop                         int64\n",
       "genre_reggae                      int64\n",
       "genre_rnb_soul                    int64\n",
       "genre_rock                        int64\n",
       "genre_singer-songwriter           int64\n",
       "genre_underground_electronic      int64\n",
       "tone_A#min                        int64\n",
       "tone_AMaj                         int64\n",
       "tone_Amin                         int64\n",
       "tone_BMaj                         int64\n",
       "tone_Bmin                         int64\n",
       "tone_C#Maj                        int64\n",
       "tone_C#min                        int64\n",
       "tone_CMaj                         int64\n",
       "tone_Cmin                         int64\n",
       "tone_D#Maj                        int64\n",
       "tone_D#min                        int64\n",
       "tone_DMaj                         int64\n",
       "tone_Dmin                         int64\n",
       "tone_EMaj                         int64\n",
       "tone_Emin                         int64\n",
       "tone_F#Maj                        int64\n",
       "tone_F#min                        int64\n",
       "tone_FMaj                         int64\n",
       "tone_Fmin                         int64\n",
       "tone_G#Maj                        int64\n",
       "tone_G#min                        int64\n",
       "tone_GMaj                         int64\n",
       "tone_Gmin                         int64\n",
       "dtype: object"
      ]
     },
     "execution_count": 5,
     "metadata": {},
     "output_type": "execute_result"
    }
   ],
   "source": [
    "data.dtypes"
   ]
  },
  {
   "cell_type": "code",
   "execution_count": 6,
   "metadata": {},
   "outputs": [
    {
     "data": {
      "text/html": [
       "<div>\n",
       "<style scoped>\n",
       "    .dataframe tbody tr th:only-of-type {\n",
       "        vertical-align: middle;\n",
       "    }\n",
       "\n",
       "    .dataframe tbody tr th {\n",
       "        vertical-align: top;\n",
       "    }\n",
       "\n",
       "    .dataframe thead th {\n",
       "        text-align: right;\n",
       "    }\n",
       "</style>\n",
       "<table border=\"1\" class=\"dataframe\">\n",
       "  <thead>\n",
       "    <tr style=\"text-align: right;\">\n",
       "      <th></th>\n",
       "      <th>artist_popularity</th>\n",
       "      <th>track_age_2024</th>\n",
       "      <th>danceability</th>\n",
       "      <th>energy</th>\n",
       "      <th>loudness</th>\n",
       "      <th>speechiness</th>\n",
       "      <th>acousticness</th>\n",
       "      <th>instrumentalness</th>\n",
       "      <th>liveness</th>\n",
       "      <th>valence</th>\n",
       "      <th>...</th>\n",
       "      <th>tone_EMaj</th>\n",
       "      <th>tone_Emin</th>\n",
       "      <th>tone_F#Maj</th>\n",
       "      <th>tone_F#min</th>\n",
       "      <th>tone_FMaj</th>\n",
       "      <th>tone_Fmin</th>\n",
       "      <th>tone_G#Maj</th>\n",
       "      <th>tone_G#min</th>\n",
       "      <th>tone_GMaj</th>\n",
       "      <th>tone_Gmin</th>\n",
       "    </tr>\n",
       "    <tr>\n",
       "      <th>song_id</th>\n",
       "      <th></th>\n",
       "      <th></th>\n",
       "      <th></th>\n",
       "      <th></th>\n",
       "      <th></th>\n",
       "      <th></th>\n",
       "      <th></th>\n",
       "      <th></th>\n",
       "      <th></th>\n",
       "      <th></th>\n",
       "      <th></th>\n",
       "      <th></th>\n",
       "      <th></th>\n",
       "      <th></th>\n",
       "      <th></th>\n",
       "      <th></th>\n",
       "      <th></th>\n",
       "      <th></th>\n",
       "      <th></th>\n",
       "      <th></th>\n",
       "      <th></th>\n",
       "    </tr>\n",
       "  </thead>\n",
       "  <tbody>\n",
       "    <tr>\n",
       "      <th>0</th>\n",
       "      <td>86</td>\n",
       "      <td>24</td>\n",
       "      <td>0.429</td>\n",
       "      <td>0.661</td>\n",
       "      <td>85</td>\n",
       "      <td>0.0281</td>\n",
       "      <td>0.00239</td>\n",
       "      <td>0.000121</td>\n",
       "      <td>0.2340</td>\n",
       "      <td>0.285</td>\n",
       "      <td>...</td>\n",
       "      <td>0</td>\n",
       "      <td>0</td>\n",
       "      <td>0</td>\n",
       "      <td>0</td>\n",
       "      <td>0</td>\n",
       "      <td>0</td>\n",
       "      <td>0</td>\n",
       "      <td>0</td>\n",
       "      <td>0</td>\n",
       "      <td>0</td>\n",
       "    </tr>\n",
       "    <tr>\n",
       "      <th>1</th>\n",
       "      <td>75</td>\n",
       "      <td>24</td>\n",
       "      <td>0.434</td>\n",
       "      <td>0.897</td>\n",
       "      <td>69</td>\n",
       "      <td>0.0488</td>\n",
       "      <td>0.01030</td>\n",
       "      <td>0.000000</td>\n",
       "      <td>0.6120</td>\n",
       "      <td>0.684</td>\n",
       "      <td>...</td>\n",
       "      <td>0</td>\n",
       "      <td>0</td>\n",
       "      <td>0</td>\n",
       "      <td>0</td>\n",
       "      <td>0</td>\n",
       "      <td>0</td>\n",
       "      <td>0</td>\n",
       "      <td>0</td>\n",
       "      <td>0</td>\n",
       "      <td>0</td>\n",
       "    </tr>\n",
       "    <tr>\n",
       "      <th>2</th>\n",
       "      <td>61</td>\n",
       "      <td>24</td>\n",
       "      <td>0.529</td>\n",
       "      <td>0.496</td>\n",
       "      <td>95</td>\n",
       "      <td>0.0290</td>\n",
       "      <td>0.17300</td>\n",
       "      <td>0.000000</td>\n",
       "      <td>0.2510</td>\n",
       "      <td>0.278</td>\n",
       "      <td>...</td>\n",
       "      <td>0</td>\n",
       "      <td>0</td>\n",
       "      <td>0</td>\n",
       "      <td>0</td>\n",
       "      <td>0</td>\n",
       "      <td>0</td>\n",
       "      <td>0</td>\n",
       "      <td>0</td>\n",
       "      <td>1</td>\n",
       "      <td>0</td>\n",
       "    </tr>\n",
       "    <tr>\n",
       "      <th>3</th>\n",
       "      <td>83</td>\n",
       "      <td>24</td>\n",
       "      <td>0.556</td>\n",
       "      <td>0.864</td>\n",
       "      <td>76</td>\n",
       "      <td>0.0584</td>\n",
       "      <td>0.00958</td>\n",
       "      <td>0.000000</td>\n",
       "      <td>0.2090</td>\n",
       "      <td>0.400</td>\n",
       "      <td>...</td>\n",
       "      <td>0</td>\n",
       "      <td>0</td>\n",
       "      <td>0</td>\n",
       "      <td>0</td>\n",
       "      <td>0</td>\n",
       "      <td>0</td>\n",
       "      <td>0</td>\n",
       "      <td>0</td>\n",
       "      <td>0</td>\n",
       "      <td>0</td>\n",
       "    </tr>\n",
       "    <tr>\n",
       "      <th>4</th>\n",
       "      <td>65</td>\n",
       "      <td>24</td>\n",
       "      <td>0.610</td>\n",
       "      <td>0.926</td>\n",
       "      <td>68</td>\n",
       "      <td>0.0479</td>\n",
       "      <td>0.03100</td>\n",
       "      <td>0.001200</td>\n",
       "      <td>0.0821</td>\n",
       "      <td>0.861</td>\n",
       "      <td>...</td>\n",
       "      <td>0</td>\n",
       "      <td>0</td>\n",
       "      <td>0</td>\n",
       "      <td>0</td>\n",
       "      <td>0</td>\n",
       "      <td>0</td>\n",
       "      <td>0</td>\n",
       "      <td>1</td>\n",
       "      <td>0</td>\n",
       "      <td>0</td>\n",
       "    </tr>\n",
       "  </tbody>\n",
       "</table>\n",
       "<p>5 rows × 51 columns</p>\n",
       "</div>"
      ],
      "text/plain": [
       "         artist_popularity  track_age_2024  danceability  energy  loudness  \\\n",
       "song_id                                                                      \n",
       "0                       86              24         0.429   0.661        85   \n",
       "1                       75              24         0.434   0.897        69   \n",
       "2                       61              24         0.529   0.496        95   \n",
       "3                       83              24         0.556   0.864        76   \n",
       "4                       65              24         0.610   0.926        68   \n",
       "\n",
       "         speechiness  acousticness  instrumentalness  liveness  valence  ...  \\\n",
       "song_id                                                                  ...   \n",
       "0             0.0281       0.00239          0.000121    0.2340    0.285  ...   \n",
       "1             0.0488       0.01030          0.000000    0.6120    0.684  ...   \n",
       "2             0.0290       0.17300          0.000000    0.2510    0.278  ...   \n",
       "3             0.0584       0.00958          0.000000    0.2090    0.400  ...   \n",
       "4             0.0479       0.03100          0.001200    0.0821    0.861  ...   \n",
       "\n",
       "         tone_EMaj  tone_Emin  tone_F#Maj tone_F#min  tone_FMaj  tone_Fmin  \\\n",
       "song_id                                                                      \n",
       "0                0          0           0          0          0          0   \n",
       "1                0          0           0          0          0          0   \n",
       "2                0          0           0          0          0          0   \n",
       "3                0          0           0          0          0          0   \n",
       "4                0          0           0          0          0          0   \n",
       "\n",
       "         tone_G#Maj  tone_G#min  tone_GMaj  tone_Gmin  \n",
       "song_id                                                \n",
       "0                 0           0          0          0  \n",
       "1                 0           0          0          0  \n",
       "2                 0           0          1          0  \n",
       "3                 0           0          0          0  \n",
       "4                 0           1          0          0  \n",
       "\n",
       "[5 rows x 51 columns]"
      ]
     },
     "execution_count": 6,
     "metadata": {},
     "output_type": "execute_result"
    }
   ],
   "source": [
    "df = data.copy()\n",
    "df.head()"
   ]
  },
  {
   "cell_type": "code",
   "execution_count": 7,
   "metadata": {},
   "outputs": [
    {
     "data": {
      "image/png": "[encoded data removed]",
      "text/plain": [
       "<Figure size 640x480 with 1 Axes>"
      ]
     },
     "metadata": {},
     "output_type": "display_data"
    }
   ],
   "source": [
    "import pandas as pd\n",
    "import matplotlib.pyplot as plt\n",
    "\n",
    "# Assuming 'df' is already defined\n",
    "df['song_popularity_labels'].value_counts().plot(kind='bar')\n",
    "\n",
    "plt.xlabel('song_popularity_labels')\n",
    "plt.ylabel('Count')\n",
    "plt.title('Distribution of song_popularity_labels')\n",
    "\n",
    "plt.show()\n"
   ]
  },
  {
   "cell_type": "code",
   "execution_count": 8,
   "metadata": {},
   "outputs": [
    {
     "name": "stdout",
     "output_type": "stream",
     "text": [
      "song_popularity_labels\n",
      "Moderate    1202\n",
      "Popular      359\n",
      "Niche         48\n",
      "Name: count, dtype: int64\n",
      "song_popularity_labels\n",
      "Moderate    516\n",
      "Popular     154\n",
      "Niche        20\n",
      "Name: count, dtype: int64\n"
     ]
    },
    {
     "data": {
      "image/png": "[encoded data removed]",
      "text/plain": [
       "<Figure size 1000x500 with 2 Axes>"
      ]
     },
     "metadata": {},
     "output_type": "display_data"
    }
   ],
   "source": [
    "# Stratify Sampling\n",
    "train, test = train_test_split(data, test_size = 0.3, stratify=data['song_popularity_labels'])\n",
    "print(train['song_popularity_labels'].value_counts())\n",
    "print(test['song_popularity_labels'].value_counts())\n",
    "# Assuming 'train' and 'test' are already defined\n",
    "plt.figure(figsize=(10, 5))\n",
    "\n",
    "plt.subplot(1, 2, 1)\n",
    "plt.hist(train['song_popularity_labels'])\n",
    "plt.xlabel('song_popularity_labels')\n",
    "plt.ylabel('Count')\n",
    "plt.title('Histogram of song_popularity_labels in Train Data')\n",
    "\n",
    "plt.subplot(1, 2, 2)\n",
    "plt.hist(test['song_popularity_labels'])\n",
    "plt.xlabel('song_popularity_labels')\n",
    "plt.ylabel('Count')\n",
    "plt.title('Histogram of song_popularity_labels in Test Data')\n",
    "\n",
    "plt.tight_layout()\n",
    "plt.show()\n",
    "\n",
    "\n"
   ]
  },
  {
   "cell_type": "code",
   "execution_count": 10,
   "metadata": {},
   "outputs": [
    {
     "data": {
      "text/plain": [
       "Index(['artist_popularity', 'track_age_2024', 'danceability', 'energy',\n",
       "       'loudness', 'speechiness', 'acousticness', 'instrumentalness',\n",
       "       'liveness', 'valence', 'tempo', 'duration_ms', 'track_popularity',\n",
       "       'song_popularity_labels', 'genre_country', 'genre_folk',\n",
       "       'genre_hip_hop_rap', 'genre_house_and_pop_fusion', 'genre_jazz',\n",
       "       'genre_latin', 'genre_metal', 'genre_other', 'genre_pop',\n",
       "       'genre_reggae', 'genre_rnb_soul', 'genre_rock',\n",
       "       'genre_singer-songwriter', 'genre_underground_electronic', 'tone_A#min',\n",
       "       'tone_AMaj', 'tone_Amin', 'tone_BMaj', 'tone_Bmin', 'tone_C#Maj',\n",
       "       'tone_C#min', 'tone_CMaj', 'tone_Cmin', 'tone_D#Maj', 'tone_D#min',\n",
       "       'tone_DMaj', 'tone_Dmin', 'tone_EMaj', 'tone_Emin', 'tone_F#Maj',\n",
       "       'tone_F#min', 'tone_FMaj', 'tone_Fmin', 'tone_G#Maj', 'tone_G#min',\n",
       "       'tone_GMaj', 'tone_Gmin'],\n",
       "      dtype='object')"
      ]
     },
     "execution_count": 10,
     "metadata": {},
     "output_type": "execute_result"
    }
   ],
   "source": [
    "data.columns"
   ]
  },
  {
   "cell_type": "markdown",
   "metadata": {},
   "source": [
    "# Logistic Regression without SMOTE"
   ]
  },
  {
   "cell_type": "code",
   "execution_count": 11,
   "metadata": {},
   "outputs": [
    {
     "name": "stderr",
     "output_type": "stream",
     "text": [
      "/Users/lucazosso/opt/anaconda3/lib/python3.9/site-packages/sklearn/linear_model/_logistic.py:469: ConvergenceWarning: lbfgs failed to converge (status=1):\n",
      "STOP: TOTAL NO. of ITERATIONS REACHED LIMIT.\n",
      "\n",
      "Increase the number of iterations (max_iter) or scale the data as shown in:\n",
      "    https://scikit-learn.org/stable/modules/preprocessing.html\n",
      "Please also refer to the documentation for alternative solver options:\n",
      "    https://scikit-learn.org/stable/modules/linear_model.html#logistic-regression\n",
      "  n_iter_i = _check_optimize_result(\n"
     ]
    }
   ],
   "source": [
    "from sklearn.linear_model import LogisticRegression\n",
    "\n",
    "# Instantiate the Logistic Regression with only default settings\n",
    "my_log_reg = LogisticRegression()\n",
    "\n",
    "#features = ['artist_popularity', 'track_age_2024', 'danceability', 'energy', 'loudness', 'speechiness', 'acousticness', 'instrumentalness', 'liveness', 'valence', 'tempo', 'duration_ms']\n",
    "features = ['track_age_2024', 'danceability', 'energy',\n",
    "       'loudness', 'speechiness', 'acousticness', 'instrumentalness',\n",
    "       'liveness', 'valence', 'tempo', 'duration_ms', 'genre_country', 'genre_folk',\n",
    "       'genre_hip_hop_rap', 'genre_house_and_pop_fusion', 'genre_jazz',\n",
    "       'genre_latin', 'genre_metal', 'genre_other', 'genre_pop',\n",
    "       'genre_reggae', 'genre_rnb_soul', 'genre_rock',\n",
    "       'genre_singer-songwriter', 'genre_underground_electronic', 'tone_A#min',\n",
    "       'tone_AMaj', 'tone_Amin', 'tone_BMaj', 'tone_Bmin', 'tone_C#Maj',\n",
    "       'tone_C#min', 'tone_CMaj', 'tone_Cmin', 'tone_D#Maj', 'tone_D#min',\n",
    "       'tone_DMaj', 'tone_Dmin', 'tone_EMaj', 'tone_Emin', 'tone_F#Maj',\n",
    "       'tone_F#min', 'tone_FMaj', 'tone_Fmin', 'tone_G#Maj', 'tone_G#min',\n",
    "       'tone_GMaj', 'tone_Gmin']\n",
    "\n",
    "# Fit the logistic regression on the independent variables of the train data with buy as dependent variable\n",
    "my_log_reg.fit(train[features], train['song_popularity_labels'])\n",
    "\n",
    "# Make a prediction using our model on the test set\n",
    "preds = my_log_reg.predict(test[features])"
   ]
  },
  {
   "cell_type": "code",
   "execution_count": 12,
   "metadata": {},
   "outputs": [
    {
     "name": "stdout",
     "output_type": "stream",
     "text": [
      "              precision    recall  f1-score   support\n",
      "\n",
      "    Moderate       0.75      1.00      0.85       516\n",
      "       Niche       0.00      0.00      0.00        20\n",
      "     Popular       0.00      0.00      0.00       154\n",
      "\n",
      "    accuracy                           0.75       690\n",
      "   macro avg       0.25      0.33      0.28       690\n",
      "weighted avg       0.56      0.75      0.64       690\n",
      "\n"
     ]
    },
    {
     "name": "stderr",
     "output_type": "stream",
     "text": [
      "/Users/lucazosso/opt/anaconda3/lib/python3.9/site-packages/sklearn/metrics/_classification.py:1497: UndefinedMetricWarning: Precision is ill-defined and being set to 0.0 in labels with no predicted samples. Use `zero_division` parameter to control this behavior.\n",
      "  _warn_prf(average, modifier, f\"{metric.capitalize()} is\", len(result))\n",
      "/Users/lucazosso/opt/anaconda3/lib/python3.9/site-packages/sklearn/metrics/_classification.py:1497: UndefinedMetricWarning: Precision is ill-defined and being set to 0.0 in labels with no predicted samples. Use `zero_division` parameter to control this behavior.\n",
      "  _warn_prf(average, modifier, f\"{metric.capitalize()} is\", len(result))\n",
      "/Users/lucazosso/opt/anaconda3/lib/python3.9/site-packages/sklearn/metrics/_classification.py:1497: UndefinedMetricWarning: Precision is ill-defined and being set to 0.0 in labels with no predicted samples. Use `zero_division` parameter to control this behavior.\n",
      "  _warn_prf(average, modifier, f\"{metric.capitalize()} is\", len(result))\n"
     ]
    }
   ],
   "source": [
    "from sklearn.metrics import classification_report\n",
    "print(classification_report(test['song_popularity_labels'], preds))"
   ]
  },
  {
   "cell_type": "markdown",
   "metadata": {},
   "source": [
    "# Logit w/ SMOTE"
   ]
  },
  {
   "cell_type": "code",
   "execution_count": 104,
   "metadata": {},
   "outputs": [
    {
     "name": "stdout",
     "output_type": "stream",
     "text": [
      "Requirement already satisfied: imbalanced-learn in /Users/lucazosso/opt/anaconda3/lib/python3.9/site-packages (0.12.0)\n",
      "Requirement already satisfied: numpy>=1.17.3 in /Users/lucazosso/opt/anaconda3/lib/python3.9/site-packages (from imbalanced-learn) (1.24.3)\n",
      "Requirement already satisfied: scipy>=1.5.0 in /Users/lucazosso/opt/anaconda3/lib/python3.9/site-packages (from imbalanced-learn) (1.11.1)\n",
      "Requirement already satisfied: scikit-learn>=1.0.2 in /Users/lucazosso/opt/anaconda3/lib/python3.9/site-packages (from imbalanced-learn) (1.4.0)\n",
      "Requirement already satisfied: joblib>=1.1.1 in /Users/lucazosso/opt/anaconda3/lib/python3.9/site-packages (from imbalanced-learn) (1.2.0)\n",
      "Requirement already satisfied: threadpoolctl>=2.0.0 in /Users/lucazosso/opt/anaconda3/lib/python3.9/site-packages (from imbalanced-learn) (2.2.0)\n",
      "\u001b[33mDEPRECATION: arcgis 2.1.0 has a non-standard dependency specifier keyring>=23.3.*. pip 23.3 will enforce this behaviour change. A possible replacement is to upgrade to a newer version of arcgis or contact the author to suggest that they release a version with a conforming dependency specifiers. Discussion can be found at https://github.com/pypa/pip/issues/12063\u001b[0m\u001b[33m\n",
      "\u001b[0m"
     ]
    }
   ],
   "source": [
    "!pip install imbalanced-learn\n",
    "\n"
   ]
  },
  {
   "cell_type": "code",
   "execution_count": 13,
   "metadata": {},
   "outputs": [],
   "source": [
    "import numpy as np\n",
    "from imblearn.over_sampling import SMOTE\n",
    "\n",
    "# First, find the smallest class size\n",
    "label_encoder = LabelEncoder()\n",
    "encoded_labels = label_encoder.fit_transform(train['song_popularity_labels'])\n",
    "min_class_size = np.min(np.bincount(encoded_labels))\n",
    "k_neighbors = max(1, min(3, min_class_size - 1))  # Ensure at least 1\n",
    "\n",
    "# Applying SMOTE to the training set with adjusted k_neighbors\n",
    "smote = SMOTE(random_state=42, k_neighbors=k_neighbors)\n",
    "X_resampled, y_resampled = smote.fit_resample(train[features], train['song_popularity_labels'])"
   ]
  },
  {
   "cell_type": "code",
   "execution_count": 14,
   "metadata": {},
   "outputs": [
    {
     "data": {
      "text/plain": [
       "<Axes: title={'center': 'Class distribution after appying SMOTE'}, xlabel='song_pop_labels'>"
      ]
     },
     "execution_count": 14,
     "metadata": {},
     "output_type": "execute_result"
    },
    {
     "data": {
      "image/png": "[encoded data removed]",
      "text/plain": [
       "<Figure size 640x480 with 1 Axes>"
      ]
     },
     "metadata": {},
     "output_type": "display_data"
    }
   ],
   "source": [
    "pd.Series(y_resampled).value_counts().plot(kind='bar', title='Class distribution after appying SMOTE', xlabel='song_pop_labels')\n"
   ]
  },
  {
   "cell_type": "code",
   "execution_count": 15,
   "metadata": {},
   "outputs": [
    {
     "name": "stderr",
     "output_type": "stream",
     "text": [
      "/Users/lucazosso/opt/anaconda3/lib/python3.9/site-packages/sklearn/linear_model/_logistic.py:469: ConvergenceWarning: lbfgs failed to converge (status=1):\n",
      "STOP: TOTAL NO. of ITERATIONS REACHED LIMIT.\n",
      "\n",
      "Increase the number of iterations (max_iter) or scale the data as shown in:\n",
      "    https://scikit-learn.org/stable/modules/preprocessing.html\n",
      "Please also refer to the documentation for alternative solver options:\n",
      "    https://scikit-learn.org/stable/modules/linear_model.html#logistic-regression\n",
      "  n_iter_i = _check_optimize_result(\n"
     ]
    }
   ],
   "source": [
    "# Instantiate the new Logistic Regression\n",
    "log_reg_2 = LogisticRegression()\n",
    "\n",
    "# Fit the model with the data that has been resampled with SMOTE\n",
    "log_reg_2.fit(X_resampled, y_resampled)\n",
    "\n",
    "# Predict on the test set (not resampled to obtain honest evaluation)\n",
    "preds2 = log_reg_2.predict(test[features])\n"
   ]
  },
  {
   "cell_type": "code",
   "execution_count": 16,
   "metadata": {},
   "outputs": [
    {
     "name": "stdout",
     "output_type": "stream",
     "text": [
      "              precision    recall  f1-score   support\n",
      "\n",
      "    Moderate       0.87      0.60      0.71       516\n",
      "       Niche       0.04      0.30      0.07        20\n",
      "     Popular       0.35      0.42      0.38       154\n",
      "\n",
      "    accuracy                           0.55       690\n",
      "   macro avg       0.42      0.44      0.39       690\n",
      "weighted avg       0.73      0.55      0.62       690\n",
      "\n"
     ]
    }
   ],
   "source": [
    "print(classification_report(test['song_popularity_labels'], preds2))"
   ]
  },
  {
   "cell_type": "code",
   "execution_count": 17,
   "metadata": {},
   "outputs": [
    {
     "name": "stdout",
     "output_type": "stream",
     "text": [
      "Model Accuracy: 0.5521739130434783\n"
     ]
    }
   ],
   "source": [
    "from sklearn.metrics import accuracy_score\n",
    "\n",
    "accuracy = accuracy_score(test['song_popularity_labels'], preds2)\n",
    "print(\"Model Accuracy:\", accuracy)\n"
   ]
  },
  {
   "cell_type": "code",
   "execution_count": 18,
   "metadata": {},
   "outputs": [
    {
     "data": {
      "text/html": [
       "<div>\n",
       "<style scoped>\n",
       "    .dataframe tbody tr th:only-of-type {\n",
       "        vertical-align: middle;\n",
       "    }\n",
       "\n",
       "    .dataframe tbody tr th {\n",
       "        vertical-align: top;\n",
       "    }\n",
       "\n",
       "    .dataframe thead th {\n",
       "        text-align: right;\n",
       "    }\n",
       "</style>\n",
       "<table border=\"1\" class=\"dataframe\">\n",
       "  <thead>\n",
       "    <tr style=\"text-align: right;\">\n",
       "      <th></th>\n",
       "      <th>Moderate</th>\n",
       "      <th>Niche</th>\n",
       "      <th>Popular</th>\n",
       "    </tr>\n",
       "  </thead>\n",
       "  <tbody>\n",
       "    <tr>\n",
       "      <th>Moderate</th>\n",
       "      <td>311</td>\n",
       "      <td>94</td>\n",
       "      <td>111</td>\n",
       "    </tr>\n",
       "    <tr>\n",
       "      <th>Niche</th>\n",
       "      <td>6</td>\n",
       "      <td>6</td>\n",
       "      <td>8</td>\n",
       "    </tr>\n",
       "    <tr>\n",
       "      <th>Popular</th>\n",
       "      <td>41</td>\n",
       "      <td>49</td>\n",
       "      <td>64</td>\n",
       "    </tr>\n",
       "  </tbody>\n",
       "</table>\n",
       "</div>"
      ],
      "text/plain": [
       "          Moderate  Niche  Popular\n",
       "Moderate       311     94      111\n",
       "Niche            6      6        8\n",
       "Popular         41     49       64"
      ]
     },
     "execution_count": 18,
     "metadata": {},
     "output_type": "execute_result"
    }
   ],
   "source": [
    "from sklearn.metrics import confusion_matrix\n",
    "unique_labels = np.unique(test['song_popularity_labels'])\n",
    "unique_labels\n",
    "# Assuming 'test', 'preds2', and 'labels' are already defined\n",
    "cm = confusion_matrix(test['song_popularity_labels'], preds2)\n",
    "cm_df = pd.DataFrame(cm, index= unique_labels, columns=unique_labels)\n",
    "cm_df\n"
   ]
  },
  {
   "cell_type": "code",
   "execution_count": 19,
   "metadata": {},
   "outputs": [
    {
     "data": {
      "text/plain": [
       "48"
      ]
     },
     "execution_count": 19,
     "metadata": {},
     "output_type": "execute_result"
    }
   ],
   "source": [
    "len(features)"
   ]
  },
  {
   "cell_type": "markdown",
   "metadata": {},
   "source": [
    "# Random Forests"
   ]
  },
  {
   "cell_type": "code",
   "execution_count": 20,
   "metadata": {},
   "outputs": [],
   "source": [
    "# Instantiate the new Logistic Regression\n",
    "random_Forest = RandomForestClassifier(n_estimators=200, oob_score=True, max_features=6)\n",
    "\n",
    "# Fit the model with the data that has been resampled with SMOTE\n",
    "random_Forest.fit(X_resampled, y_resampled)\n",
    "\n",
    "# Predict on the test set (not resampled to obtain honest evaluation)\n",
    "preds_rf = random_Forest.predict(test[features])"
   ]
  },
  {
   "cell_type": "code",
   "execution_count": 21,
   "metadata": {},
   "outputs": [
    {
     "name": "stdout",
     "output_type": "stream",
     "text": [
      "Accuracy OOB set Random Forests = 88.46%\n"
     ]
    }
   ],
   "source": [
    "\n",
    "accRF=random_Forest.oob_score_\n",
    "print(\"Accuracy OOB set Random Forests = {0:.2%}\".format(accRF))"
   ]
  },
  {
   "cell_type": "code",
   "execution_count": 22,
   "metadata": {},
   "outputs": [
    {
     "name": "stdout",
     "output_type": "stream",
     "text": [
      "              precision    recall  f1-score   support\n",
      "\n",
      "    Moderate       0.82      0.90      0.86       516\n",
      "       Niche       0.12      0.05      0.07        20\n",
      "     Popular       0.49      0.38      0.43       154\n",
      "\n",
      "    accuracy                           0.76       690\n",
      "   macro avg       0.48      0.44      0.45       690\n",
      "weighted avg       0.73      0.76      0.74       690\n",
      "\n"
     ]
    }
   ],
   "source": [
    "from sklearn.metrics import classification_report\n",
    "\n",
    "print(classification_report(test['song_popularity_labels'], preds_rf))\n"
   ]
  },
  {
   "cell_type": "code",
   "execution_count": 23,
   "metadata": {},
   "outputs": [
    {
     "data": {
      "text/html": [
       "<div>\n",
       "<style scoped>\n",
       "    .dataframe tbody tr th:only-of-type {\n",
       "        vertical-align: middle;\n",
       "    }\n",
       "\n",
       "    .dataframe tbody tr th {\n",
       "        vertical-align: top;\n",
       "    }\n",
       "\n",
       "    .dataframe thead th {\n",
       "        text-align: right;\n",
       "    }\n",
       "</style>\n",
       "<table border=\"1\" class=\"dataframe\">\n",
       "  <thead>\n",
       "    <tr style=\"text-align: right;\">\n",
       "      <th></th>\n",
       "      <th>Moderate</th>\n",
       "      <th>Niche</th>\n",
       "      <th>Popular</th>\n",
       "    </tr>\n",
       "  </thead>\n",
       "  <tbody>\n",
       "    <tr>\n",
       "      <th>Moderate</th>\n",
       "      <td>311</td>\n",
       "      <td>94</td>\n",
       "      <td>111</td>\n",
       "    </tr>\n",
       "    <tr>\n",
       "      <th>Niche</th>\n",
       "      <td>6</td>\n",
       "      <td>6</td>\n",
       "      <td>8</td>\n",
       "    </tr>\n",
       "    <tr>\n",
       "      <th>Popular</th>\n",
       "      <td>41</td>\n",
       "      <td>49</td>\n",
       "      <td>64</td>\n",
       "    </tr>\n",
       "  </tbody>\n",
       "</table>\n",
       "</div>"
      ],
      "text/plain": [
       "          Moderate  Niche  Popular\n",
       "Moderate       311     94      111\n",
       "Niche            6      6        8\n",
       "Popular         41     49       64"
      ]
     },
     "execution_count": 23,
     "metadata": {},
     "output_type": "execute_result"
    }
   ],
   "source": [
    "cm_rf = confusion_matrix(test['song_popularity_labels'], preds_rf)\n",
    "cm_df1 = pd.DataFrame(cm, index= unique_labels, columns=unique_labels)\n",
    "cm_df1"
   ]
  },
  {
   "cell_type": "markdown",
   "metadata": {},
   "source": [
    "# XGBOOST"
   ]
  },
  {
   "cell_type": "code",
   "execution_count": 24,
   "metadata": {},
   "outputs": [],
   "source": [
    "from xgboost import XGBClassifier\n",
    "# Ensure target variable is encoded properly\n",
    "label_encoder = LabelEncoder()\n",
    "y_resampled_encoded = label_encoder.fit_transform(y_resampled)\n",
    "\n",
    "# Instantiate the XGBoost classifier\n",
    "xgb = XGBClassifier(n_estimators=200)\n",
    "\n",
    "# Fit the model with the data that has been resampled with SMOTE\n",
    "xgb.fit(X_resampled, y_resampled_encoded)\n",
    "\n",
    "# Predict on the test set (not resampled to obtain honest evaluation)\n",
    "preds_xgb = xgb.predict(test[features])"
   ]
  },
  {
   "cell_type": "code",
   "execution_count": 25,
   "metadata": {},
   "outputs": [
    {
     "name": "stdout",
     "output_type": "stream",
     "text": [
      "              precision    recall  f1-score   support\n",
      "\n",
      "           0       0.82      0.90      0.86       516\n",
      "           1       0.17      0.05      0.08        20\n",
      "           2       0.52      0.39      0.45       154\n",
      "\n",
      "    accuracy                           0.76       690\n",
      "   macro avg       0.50      0.45      0.46       690\n",
      "weighted avg       0.73      0.76      0.74       690\n",
      "\n"
     ]
    }
   ],
   "source": [
    "# Transform the true labels to the encoded form\n",
    "true_labels_encoded = label_encoder.transform(test['song_popularity_labels'])\n",
    "\n",
    "# Now you can compare true_labels_encoded with preds_xgb\n",
    "print(classification_report(true_labels_encoded, preds_xgb))"
   ]
  },
  {
   "cell_type": "code",
   "execution_count": null,
   "metadata": {},
   "outputs": [],
   "source": []
  }
 ],
 "metadata": {
  "kernelspec": {
   "display_name": "base",
   "language": "python",
   "name": "python3"
  },
  "language_info": {
   "codemirror_mode": {
    "name": "ipython",
    "version": 3
   },
   "file_extension": ".py",
   "mimetype": "text/x-python",
   "name": "python",
   "nbconvert_exporter": "python",
   "pygments_lexer": "ipython3",
   "version": "3.9.18"
  }
 },
 "nbformat": 4,
 "nbformat_minor": 2
}
