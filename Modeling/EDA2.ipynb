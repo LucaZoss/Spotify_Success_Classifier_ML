{
 "cells": [
  {
   "cell_type": "code",
   "execution_count": 1,
   "metadata": {},
   "outputs": [
    {
     "name": "stdout",
     "output_type": "stream",
     "text": [
      "Intel MKL WARNING: Support of Intel(R) Streaming SIMD Extensions 4.2 (Intel(R) SSE4.2) enabled only processors has been deprecated. Intel oneAPI Math Kernel Library 2025.0 will require Intel(R) Advanced Vector Extensions (Intel(R) AVX) instructions.\n",
      "Intel MKL WARNING: Support of Intel(R) Streaming SIMD Extensions 4.2 (Intel(R) SSE4.2) enabled only processors has been deprecated. Intel oneAPI Math Kernel Library 2025.0 will require Intel(R) Advanced Vector Extensions (Intel(R) AVX) instructions.\n"
     ]
    }
   ],
   "source": [
    "#EDA\n",
    "import pandas as pd\n",
    "import numpy as np\n",
    "\n",
    "#visualization\n",
    "import matplotlib.pyplot as plt\n",
    "import seaborn as sns\n",
    "\n",
    "#warnings\n",
    "import warnings\n",
    "\n",
    "warnings.filterwarnings(\"ignore\")"
   ]
  },
  {
   "cell_type": "code",
   "execution_count": 2,
   "metadata": {},
   "outputs": [
    {
     "data": {
      "text/html": [
       "<div>\n",
       "<style scoped>\n",
       "    .dataframe tbody tr th:only-of-type {\n",
       "        vertical-align: middle;\n",
       "    }\n",
       "\n",
       "    .dataframe tbody tr th {\n",
       "        vertical-align: top;\n",
       "    }\n",
       "\n",
       "    .dataframe thead th {\n",
       "        text-align: right;\n",
       "    }\n",
       "</style>\n",
       "<table border=\"1\" class=\"dataframe\">\n",
       "  <thead>\n",
       "    <tr style=\"text-align: right;\">\n",
       "      <th></th>\n",
       "      <th>track_name</th>\n",
       "      <th>artist_name</th>\n",
       "      <th>album</th>\n",
       "      <th>artist_popularity</th>\n",
       "      <th>track_age_2024</th>\n",
       "      <th>artist_genres</th>\n",
       "      <th>dominant_genre</th>\n",
       "      <th>tonality</th>\n",
       "      <th>danceability</th>\n",
       "      <th>energy</th>\n",
       "      <th>loudness</th>\n",
       "      <th>speechiness</th>\n",
       "      <th>acousticness</th>\n",
       "      <th>instrumentalness</th>\n",
       "      <th>liveness</th>\n",
       "      <th>valence</th>\n",
       "      <th>tempo</th>\n",
       "      <th>duration_ms</th>\n",
       "      <th>track_popularity</th>\n",
       "      <th>song_popularity_labels</th>\n",
       "    </tr>\n",
       "    <tr>\n",
       "      <th>song_id</th>\n",
       "      <th></th>\n",
       "      <th></th>\n",
       "      <th></th>\n",
       "      <th></th>\n",
       "      <th></th>\n",
       "      <th></th>\n",
       "      <th></th>\n",
       "      <th></th>\n",
       "      <th></th>\n",
       "      <th></th>\n",
       "      <th></th>\n",
       "      <th></th>\n",
       "      <th></th>\n",
       "      <th></th>\n",
       "      <th></th>\n",
       "      <th></th>\n",
       "      <th></th>\n",
       "      <th></th>\n",
       "      <th></th>\n",
       "      <th></th>\n",
       "    </tr>\n",
       "  </thead>\n",
       "  <tbody>\n",
       "    <tr>\n",
       "      <th>0</th>\n",
       "      <td>Yellow</td>\n",
       "      <td>Coldplay</td>\n",
       "      <td>Parachutes</td>\n",
       "      <td>86</td>\n",
       "      <td>24</td>\n",
       "      <td>['permanent wave', 'pop']</td>\n",
       "      <td>rock</td>\n",
       "      <td>BMaj</td>\n",
       "      <td>0.429</td>\n",
       "      <td>0.661</td>\n",
       "      <td>85</td>\n",
       "      <td>0.0281</td>\n",
       "      <td>0.00239</td>\n",
       "      <td>0.000121</td>\n",
       "      <td>0.2340</td>\n",
       "      <td>0.285</td>\n",
       "      <td>173.372</td>\n",
       "      <td>266773</td>\n",
       "      <td>91</td>\n",
       "      <td>Popular</td>\n",
       "    </tr>\n",
       "    <tr>\n",
       "      <th>1</th>\n",
       "      <td>All The Small Things</td>\n",
       "      <td>blink-182</td>\n",
       "      <td>Enema Of The State</td>\n",
       "      <td>75</td>\n",
       "      <td>24</td>\n",
       "      <td>['alternative metal', 'modern rock', 'pop punk...</td>\n",
       "      <td>rock</td>\n",
       "      <td>CMaj</td>\n",
       "      <td>0.434</td>\n",
       "      <td>0.897</td>\n",
       "      <td>69</td>\n",
       "      <td>0.0488</td>\n",
       "      <td>0.01030</td>\n",
       "      <td>0.000000</td>\n",
       "      <td>0.6120</td>\n",
       "      <td>0.684</td>\n",
       "      <td>148.726</td>\n",
       "      <td>167067</td>\n",
       "      <td>84</td>\n",
       "      <td>Popular</td>\n",
       "    </tr>\n",
       "    <tr>\n",
       "      <th>2</th>\n",
       "      <td>Breathe</td>\n",
       "      <td>Faith Hill</td>\n",
       "      <td>Breathe</td>\n",
       "      <td>61</td>\n",
       "      <td>24</td>\n",
       "      <td>['contemporary country', 'country', 'country d...</td>\n",
       "      <td>country</td>\n",
       "      <td>GMaj</td>\n",
       "      <td>0.529</td>\n",
       "      <td>0.496</td>\n",
       "      <td>95</td>\n",
       "      <td>0.0290</td>\n",
       "      <td>0.17300</td>\n",
       "      <td>0.000000</td>\n",
       "      <td>0.2510</td>\n",
       "      <td>0.278</td>\n",
       "      <td>136.859</td>\n",
       "      <td>250547</td>\n",
       "      <td>69</td>\n",
       "      <td>Moderate</td>\n",
       "    </tr>\n",
       "    <tr>\n",
       "      <th>3</th>\n",
       "      <td>In the End</td>\n",
       "      <td>Linkin Park</td>\n",
       "      <td>Hybrid Theory (Bonus Edition)</td>\n",
       "      <td>83</td>\n",
       "      <td>24</td>\n",
       "      <td>['alternative metal', 'nu metal', 'post-grunge...</td>\n",
       "      <td>rock</td>\n",
       "      <td>D#min</td>\n",
       "      <td>0.556</td>\n",
       "      <td>0.864</td>\n",
       "      <td>76</td>\n",
       "      <td>0.0584</td>\n",
       "      <td>0.00958</td>\n",
       "      <td>0.000000</td>\n",
       "      <td>0.2090</td>\n",
       "      <td>0.400</td>\n",
       "      <td>105.143</td>\n",
       "      <td>216880</td>\n",
       "      <td>88</td>\n",
       "      <td>Popular</td>\n",
       "    </tr>\n",
       "    <tr>\n",
       "      <th>4</th>\n",
       "      <td>Bye Bye Bye</td>\n",
       "      <td>*NSYNC</td>\n",
       "      <td>No Strings Attached</td>\n",
       "      <td>65</td>\n",
       "      <td>24</td>\n",
       "      <td>['boy band', 'dance pop', 'pop']</td>\n",
       "      <td>pop</td>\n",
       "      <td>G#min</td>\n",
       "      <td>0.610</td>\n",
       "      <td>0.926</td>\n",
       "      <td>68</td>\n",
       "      <td>0.0479</td>\n",
       "      <td>0.03100</td>\n",
       "      <td>0.001200</td>\n",
       "      <td>0.0821</td>\n",
       "      <td>0.861</td>\n",
       "      <td>172.638</td>\n",
       "      <td>200400</td>\n",
       "      <td>74</td>\n",
       "      <td>Moderate</td>\n",
       "    </tr>\n",
       "  </tbody>\n",
       "</table>\n",
       "</div>"
      ],
      "text/plain": [
       "                   track_name  artist_name                          album  \\\n",
       "song_id                                                                     \n",
       "0                      Yellow     Coldplay                     Parachutes   \n",
       "1        All The Small Things    blink-182             Enema Of The State   \n",
       "2                     Breathe   Faith Hill                        Breathe   \n",
       "3                  In the End  Linkin Park  Hybrid Theory (Bonus Edition)   \n",
       "4                 Bye Bye Bye       *NSYNC            No Strings Attached   \n",
       "\n",
       "         artist_popularity  track_age_2024  \\\n",
       "song_id                                      \n",
       "0                       86              24   \n",
       "1                       75              24   \n",
       "2                       61              24   \n",
       "3                       83              24   \n",
       "4                       65              24   \n",
       "\n",
       "                                             artist_genres dominant_genre  \\\n",
       "song_id                                                                     \n",
       "0                                ['permanent wave', 'pop']           rock   \n",
       "1        ['alternative metal', 'modern rock', 'pop punk...           rock   \n",
       "2        ['contemporary country', 'country', 'country d...        country   \n",
       "3        ['alternative metal', 'nu metal', 'post-grunge...           rock   \n",
       "4                         ['boy band', 'dance pop', 'pop']            pop   \n",
       "\n",
       "        tonality  danceability  energy  loudness  speechiness  acousticness  \\\n",
       "song_id                                                                       \n",
       "0           BMaj         0.429   0.661        85       0.0281       0.00239   \n",
       "1           CMaj         0.434   0.897        69       0.0488       0.01030   \n",
       "2           GMaj         0.529   0.496        95       0.0290       0.17300   \n",
       "3          D#min         0.556   0.864        76       0.0584       0.00958   \n",
       "4          G#min         0.610   0.926        68       0.0479       0.03100   \n",
       "\n",
       "         instrumentalness  liveness  valence    tempo  duration_ms  \\\n",
       "song_id                                                              \n",
       "0                0.000121    0.2340    0.285  173.372       266773   \n",
       "1                0.000000    0.6120    0.684  148.726       167067   \n",
       "2                0.000000    0.2510    0.278  136.859       250547   \n",
       "3                0.000000    0.2090    0.400  105.143       216880   \n",
       "4                0.001200    0.0821    0.861  172.638       200400   \n",
       "\n",
       "         track_popularity song_popularity_labels  \n",
       "song_id                                           \n",
       "0                      91                Popular  \n",
       "1                      84                Popular  \n",
       "2                      69               Moderate  \n",
       "3                      88                Popular  \n",
       "4                      74               Moderate  "
      ]
     },
     "execution_count": 2,
     "metadata": {},
     "output_type": "execute_result"
    }
   ],
   "source": [
    "import pandas as pd\n",
    "data = pd.read_excel(\"/Users/lucazosso/Desktop/IE_Course/Term_2/Machine Learning II/Group Assignement/data/data_cleaned_3lab.xlsx\")\n",
    "data.index.name = 'song_id'\n",
    "data.head()"
   ]
  },
  {
   "cell_type": "code",
   "execution_count": 3,
   "metadata": {},
   "outputs": [
    {
     "data": {
      "text/plain": [
       "Index(['artist_popularity', 'track_age_2024', 'dominant_genre', 'tonality',\n",
       "       'danceability', 'energy', 'loudness', 'speechiness', 'acousticness',\n",
       "       'instrumentalness', 'liveness', 'valence', 'tempo', 'duration_ms',\n",
       "       'track_popularity', 'song_popularity_labels'],\n",
       "      dtype='object')"
      ]
     },
     "execution_count": 3,
     "metadata": {},
     "output_type": "execute_result"
    }
   ],
   "source": [
    "# Only keep the columns needed for EDA\n",
    "\n",
    "df = data.copy()\n",
    "col_to_drop = ['track_name','artist_name','album','artist_genres']\n",
    "df = df.drop(columns=col_to_drop)\n",
    "df.columns"
   ]
  },
  {
   "cell_type": "code",
   "execution_count": 4,
   "metadata": {},
   "outputs": [
    {
     "data": {
      "text/html": [
       "<div>\n",
       "<style scoped>\n",
       "    .dataframe tbody tr th:only-of-type {\n",
       "        vertical-align: middle;\n",
       "    }\n",
       "\n",
       "    .dataframe tbody tr th {\n",
       "        vertical-align: top;\n",
       "    }\n",
       "\n",
       "    .dataframe thead th {\n",
       "        text-align: right;\n",
       "    }\n",
       "</style>\n",
       "<table border=\"1\" class=\"dataframe\">\n",
       "  <thead>\n",
       "    <tr style=\"text-align: right;\">\n",
       "      <th></th>\n",
       "      <th>artist_popularity</th>\n",
       "      <th>track_age_2024</th>\n",
       "      <th>dominant_genre</th>\n",
       "      <th>tonality</th>\n",
       "      <th>danceability</th>\n",
       "      <th>energy</th>\n",
       "      <th>loudness</th>\n",
       "      <th>speechiness</th>\n",
       "      <th>acousticness</th>\n",
       "      <th>instrumentalness</th>\n",
       "      <th>liveness</th>\n",
       "      <th>valence</th>\n",
       "      <th>tempo</th>\n",
       "      <th>duration_ms</th>\n",
       "      <th>track_popularity</th>\n",
       "      <th>song_popularity_labels</th>\n",
       "    </tr>\n",
       "    <tr>\n",
       "      <th>song_id</th>\n",
       "      <th></th>\n",
       "      <th></th>\n",
       "      <th></th>\n",
       "      <th></th>\n",
       "      <th></th>\n",
       "      <th></th>\n",
       "      <th></th>\n",
       "      <th></th>\n",
       "      <th></th>\n",
       "      <th></th>\n",
       "      <th></th>\n",
       "      <th></th>\n",
       "      <th></th>\n",
       "      <th></th>\n",
       "      <th></th>\n",
       "      <th></th>\n",
       "    </tr>\n",
       "  </thead>\n",
       "  <tbody>\n",
       "    <tr>\n",
       "      <th>0</th>\n",
       "      <td>86</td>\n",
       "      <td>24</td>\n",
       "      <td>rock</td>\n",
       "      <td>BMaj</td>\n",
       "      <td>0.429</td>\n",
       "      <td>0.661</td>\n",
       "      <td>85</td>\n",
       "      <td>0.0281</td>\n",
       "      <td>0.00239</td>\n",
       "      <td>0.000121</td>\n",
       "      <td>0.2340</td>\n",
       "      <td>0.285</td>\n",
       "      <td>173.372</td>\n",
       "      <td>266773</td>\n",
       "      <td>91</td>\n",
       "      <td>Popular</td>\n",
       "    </tr>\n",
       "    <tr>\n",
       "      <th>1</th>\n",
       "      <td>75</td>\n",
       "      <td>24</td>\n",
       "      <td>rock</td>\n",
       "      <td>CMaj</td>\n",
       "      <td>0.434</td>\n",
       "      <td>0.897</td>\n",
       "      <td>69</td>\n",
       "      <td>0.0488</td>\n",
       "      <td>0.01030</td>\n",
       "      <td>0.000000</td>\n",
       "      <td>0.6120</td>\n",
       "      <td>0.684</td>\n",
       "      <td>148.726</td>\n",
       "      <td>167067</td>\n",
       "      <td>84</td>\n",
       "      <td>Popular</td>\n",
       "    </tr>\n",
       "    <tr>\n",
       "      <th>2</th>\n",
       "      <td>61</td>\n",
       "      <td>24</td>\n",
       "      <td>country</td>\n",
       "      <td>GMaj</td>\n",
       "      <td>0.529</td>\n",
       "      <td>0.496</td>\n",
       "      <td>95</td>\n",
       "      <td>0.0290</td>\n",
       "      <td>0.17300</td>\n",
       "      <td>0.000000</td>\n",
       "      <td>0.2510</td>\n",
       "      <td>0.278</td>\n",
       "      <td>136.859</td>\n",
       "      <td>250547</td>\n",
       "      <td>69</td>\n",
       "      <td>Moderate</td>\n",
       "    </tr>\n",
       "    <tr>\n",
       "      <th>3</th>\n",
       "      <td>83</td>\n",
       "      <td>24</td>\n",
       "      <td>rock</td>\n",
       "      <td>D#min</td>\n",
       "      <td>0.556</td>\n",
       "      <td>0.864</td>\n",
       "      <td>76</td>\n",
       "      <td>0.0584</td>\n",
       "      <td>0.00958</td>\n",
       "      <td>0.000000</td>\n",
       "      <td>0.2090</td>\n",
       "      <td>0.400</td>\n",
       "      <td>105.143</td>\n",
       "      <td>216880</td>\n",
       "      <td>88</td>\n",
       "      <td>Popular</td>\n",
       "    </tr>\n",
       "    <tr>\n",
       "      <th>4</th>\n",
       "      <td>65</td>\n",
       "      <td>24</td>\n",
       "      <td>pop</td>\n",
       "      <td>G#min</td>\n",
       "      <td>0.610</td>\n",
       "      <td>0.926</td>\n",
       "      <td>68</td>\n",
       "      <td>0.0479</td>\n",
       "      <td>0.03100</td>\n",
       "      <td>0.001200</td>\n",
       "      <td>0.0821</td>\n",
       "      <td>0.861</td>\n",
       "      <td>172.638</td>\n",
       "      <td>200400</td>\n",
       "      <td>74</td>\n",
       "      <td>Moderate</td>\n",
       "    </tr>\n",
       "  </tbody>\n",
       "</table>\n",
       "</div>"
      ],
      "text/plain": [
       "         artist_popularity  track_age_2024 dominant_genre tonality  \\\n",
       "song_id                                                              \n",
       "0                       86              24           rock     BMaj   \n",
       "1                       75              24           rock     CMaj   \n",
       "2                       61              24        country     GMaj   \n",
       "3                       83              24           rock    D#min   \n",
       "4                       65              24            pop    G#min   \n",
       "\n",
       "         danceability  energy  loudness  speechiness  acousticness  \\\n",
       "song_id                                                              \n",
       "0               0.429   0.661        85       0.0281       0.00239   \n",
       "1               0.434   0.897        69       0.0488       0.01030   \n",
       "2               0.529   0.496        95       0.0290       0.17300   \n",
       "3               0.556   0.864        76       0.0584       0.00958   \n",
       "4               0.610   0.926        68       0.0479       0.03100   \n",
       "\n",
       "         instrumentalness  liveness  valence    tempo  duration_ms  \\\n",
       "song_id                                                              \n",
       "0                0.000121    0.2340    0.285  173.372       266773   \n",
       "1                0.000000    0.6120    0.684  148.726       167067   \n",
       "2                0.000000    0.2510    0.278  136.859       250547   \n",
       "3                0.000000    0.2090    0.400  105.143       216880   \n",
       "4                0.001200    0.0821    0.861  172.638       200400   \n",
       "\n",
       "         track_popularity song_popularity_labels  \n",
       "song_id                                           \n",
       "0                      91                Popular  \n",
       "1                      84                Popular  \n",
       "2                      69               Moderate  \n",
       "3                      88                Popular  \n",
       "4                      74               Moderate  "
      ]
     },
     "execution_count": 4,
     "metadata": {},
     "output_type": "execute_result"
    }
   ],
   "source": [
    "df.head()"
   ]
  },
  {
   "cell_type": "code",
   "execution_count": 5,
   "metadata": {},
   "outputs": [
    {
     "data": {
      "text/plain": [
       "24"
      ]
     },
     "execution_count": 5,
     "metadata": {},
     "output_type": "execute_result"
    }
   ],
   "source": [
    "len(df['dominant_genre'].unique())\n",
    "len(df['tonality'].unique())"
   ]
  },
  {
   "cell_type": "code",
   "execution_count": 6,
   "metadata": {},
   "outputs": [
    {
     "name": "stdout",
     "output_type": "stream",
     "text": [
      "14\n",
      "23\n"
     ]
    }
   ],
   "source": [
    "#dummified dominant_genre\n",
    "# Perform one-hot encoding\n",
    "data_encoded = pd.get_dummies(df, columns=['dominant_genre'], prefix_sep=\"_\",prefix=\"genre\",dtype=int)\n",
    "# Drop a specific column\n",
    "data_encoded = data_encoded.drop('genre_talent show', axis=1)\n",
    "print(sum(data_encoded.columns.str.contains(\"genre_\") == True))\n",
    "\n",
    "#dummified tonality\n",
    "data_encoded = pd.get_dummies(data_encoded, columns=['tonality'],prefix_sep=\"_\",prefix=\"tone\",drop_first=True, dtype=int)\n",
    "print(sum(data_encoded.columns.str.contains('tone_')))\n",
    "\n"
   ]
  },
  {
   "cell_type": "code",
   "execution_count": 7,
   "metadata": {},
   "outputs": [
    {
     "data": {
      "text/plain": [
       "Index(['artist_popularity', 'track_age_2024', 'danceability', 'energy',\n",
       "       'loudness', 'speechiness', 'acousticness', 'instrumentalness',\n",
       "       'liveness', 'valence', 'tempo', 'duration_ms', 'track_popularity',\n",
       "       'song_popularity_labels', 'genre_country', 'genre_folk',\n",
       "       'genre_hip_hop_rap', 'genre_house_and_pop_fusion', 'genre_jazz',\n",
       "       'genre_latin', 'genre_metal', 'genre_other', 'genre_pop',\n",
       "       'genre_reggae', 'genre_rnb_soul', 'genre_rock',\n",
       "       'genre_singer-songwriter', 'genre_underground_electronic', 'tone_A#min',\n",
       "       'tone_AMaj', 'tone_Amin', 'tone_BMaj', 'tone_Bmin', 'tone_C#Maj',\n",
       "       'tone_C#min', 'tone_CMaj', 'tone_Cmin', 'tone_D#Maj', 'tone_D#min',\n",
       "       'tone_DMaj', 'tone_Dmin', 'tone_EMaj', 'tone_Emin', 'tone_F#Maj',\n",
       "       'tone_F#min', 'tone_FMaj', 'tone_Fmin', 'tone_G#Maj', 'tone_G#min',\n",
       "       'tone_GMaj', 'tone_Gmin'],\n",
       "      dtype='object')"
      ]
     },
     "execution_count": 7,
     "metadata": {},
     "output_type": "execute_result"
    }
   ],
   "source": [
    "data_encoded.columns"
   ]
  },
  {
   "cell_type": "code",
   "execution_count": 8,
   "metadata": {},
   "outputs": [
    {
     "data": {
      "text/plain": [
       "3"
      ]
     },
     "execution_count": 8,
     "metadata": {},
     "output_type": "execute_result"
    }
   ],
   "source": [
    "data_encoded['song_popularity_labels'].nunique()"
   ]
  },
  {
   "cell_type": "code",
   "execution_count": 10,
   "metadata": {},
   "outputs": [],
   "source": [
    "data_encoded.to_csv('/Users/lucazosso/Desktop/IE_Course/Term_2/Machine Learning II/Group Assignement/data/testing/data_processed_cleaned.csv', index_label=\"song_id\")"
   ]
  },
  {
   "cell_type": "code",
   "execution_count": null,
   "metadata": {},
   "outputs": [],
   "source": [
    "len(data_encoded.columns)"
   ]
  },
  {
   "cell_type": "code",
   "execution_count": null,
   "metadata": {},
   "outputs": [],
   "source": []
  },
  {
   "cell_type": "markdown",
   "metadata": {},
   "source": [
    "# Correlations to Target Variable y"
   ]
  },
  {
   "cell_type": "code",
   "execution_count": null,
   "metadata": {},
   "outputs": [],
   "source": [
    "import re\n",
    "# Get a Boolean Series indicating whether each column is NOT a dummy variable\n",
    "feautures_not_dummies = ~data_encoded.columns.str.contains(r'genre|tone')\n",
    "\n",
    "fig, axes = plt.subplots(nrows=5, ncols=3, figsize=(20,30), sharey=True)\n",
    "\n",
    "for ax, column in zip(axes.flatten(), data_encoded.columns[feautures_not_dummies]):\n",
    "    ax.scatter(data_encoded[column], data_encoded['track_popularity'], label=column, alpha=1)\n",
    "    ax.set_title(f'Popularity vs {column}')\n",
    "    ax.set_xlabel(column)\n",
    "    ax.set_ylabel('Popularity')\n"
   ]
  },
  {
   "cell_type": "code",
   "execution_count": null,
   "metadata": {},
   "outputs": [],
   "source": [
    "data_encoded.head()\n",
    "df1 = data_encoded[data_encoded.columns[feautures_not_dummies]]\n",
    "df1.hist(figsize=(18,15))\n"
   ]
  },
  {
   "cell_type": "code",
   "execution_count": null,
   "metadata": {},
   "outputs": [],
   "source": [
    "data_encoded.columns"
   ]
  },
  {
   "cell_type": "code",
   "execution_count": null,
   "metadata": {},
   "outputs": [],
   "source": [
    "df3=data_encoded.drop(columns=['song_popularity_labels'])"
   ]
  },
  {
   "cell_type": "code",
   "execution_count": null,
   "metadata": {},
   "outputs": [],
   "source": [
    "corr=df3.corr()\n",
    "corr"
   ]
  },
  {
   "cell_type": "code",
   "execution_count": null,
   "metadata": {},
   "outputs": [],
   "source": [
    "corr['track_popularity'].sort_values(ascending=False)"
   ]
  },
  {
   "cell_type": "code",
   "execution_count": null,
   "metadata": {},
   "outputs": [],
   "source": [
    "#check correaltions between audio features\n",
    "audio_features = ['danceability', 'energy',\n",
    "       'loudness', 'speechiness', 'acousticness', 'instrumentalness',\n",
    "       'liveness', 'valence', 'tempo', 'duration_ms']\n"
   ]
  },
  {
   "cell_type": "code",
   "execution_count": null,
   "metadata": {},
   "outputs": [],
   "source": []
  }
 ],
 "metadata": {
  "kernelspec": {
   "display_name": "base",
   "language": "python",
   "name": "python3"
  },
  "language_info": {
   "codemirror_mode": {
    "name": "ipython",
    "version": 3
   },
   "file_extension": ".py",
   "mimetype": "text/x-python",
   "name": "python",
   "nbconvert_exporter": "python",
   "pygments_lexer": "ipython3",
   "version": "3.9.18"
  }
 },
 "nbformat": 4,
 "nbformat_minor": 2
}
