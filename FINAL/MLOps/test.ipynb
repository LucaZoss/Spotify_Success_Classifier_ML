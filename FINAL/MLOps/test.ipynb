{
 "cells": [
  {
   "cell_type": "code",
   "execution_count": 275,
   "metadata": {},
   "outputs": [
    {
     "name": "stdout",
     "output_type": "stream",
     "text": [
      "{'year': '2018', 'track_name': 'Füttyös', 'track_popularity': 46, 'album': 'Füttyös', 'artist_name': 'Majka', 'artist_genres': ['hungarian edm', 'hungarian pop'], 'artist_popularity': 43, 'danceability': 0.434, 'energy': 0.856, 'key': 8, 'loudness': -4.761, 'mode': 0, 'speechiness': 0.274, 'acousticness': 0.481, 'instrumentalness': 0, 'liveness': 0.4, 'valence': 0.736, 'tempo': 99.175, 'duration_ms': 212000}\n"
     ]
    }
   ],
   "source": [
    "import spotipy\n",
    "from spotipy.oauth2 import SpotifyClientCredentials\n",
    "import pandas as pd\n",
    "\n",
    "\n",
    "def get_track_info(track_name):\n",
    "    # Set up Spotipy client with your Spotify API credentials\n",
    "    client_credentials_manager = SpotifyClientCredentials(client_id='89357b1de85a4b758d8bcaed6974a7c5',\n",
    "                                                          client_secret='d764e749f046434ead473dcd01fb116e')\n",
    "    sp = spotipy.Spotify(client_credentials_manager=client_credentials_manager)\n",
    "\n",
    "    # Search for the track\n",
    "    results = sp.search(q=track_name, type='track', limit=1)\n",
    "    if not results['tracks']['items']:\n",
    "        return 'Track not found'\n",
    "\n",
    "    track = results['tracks']['items'][0]\n",
    "\n",
    "    # Retrieve audio features of the track\n",
    "    audio_features = sp.audio_features(track['id'])[0]\n",
    "\n",
    "    # Retrieve artist information\n",
    "    artist = sp.artist(track['artists'][0]['id'])\n",
    "\n",
    "    # Compile the requested information\n",
    "    track_info = {\n",
    "        'year': track['album']['release_date'][:4],\n",
    "        'track_name': track['name'],\n",
    "        'track_popularity': track['popularity'],\n",
    "        'album': track['album']['name'],\n",
    "        'artist_name': track['artists'][0]['name'],\n",
    "        'artist_genres': artist['genres'],\n",
    "        'artist_popularity': artist['popularity'],\n",
    "        'danceability': audio_features['danceability'],\n",
    "        'energy': audio_features['energy'],\n",
    "        'key': audio_features['key'],\n",
    "        'loudness': audio_features['loudness'],\n",
    "        'mode': audio_features['mode'],\n",
    "        'speechiness': audio_features['speechiness'],\n",
    "        'acousticness': audio_features['acousticness'],\n",
    "        'instrumentalness': audio_features['instrumentalness'],\n",
    "        'liveness': audio_features['liveness'],\n",
    "        'valence': audio_features['valence'],\n",
    "        'tempo': audio_features['tempo'],\n",
    "        'duration_ms': audio_features['duration_ms'],\n",
    "    }\n",
    "\n",
    "    return track_info\n",
    "\n",
    "# Example usage\n",
    "track_name = input('Please provide me a track name:')\n",
    "track_info = get_track_info(track_name=track_name)\n",
    "print(track_info)"
   ]
  },
  {
   "cell_type": "code",
   "execution_count": 276,
   "metadata": {},
   "outputs": [
    {
     "data": {
      "text/plain": [
       "dict"
      ]
     },
     "execution_count": 276,
     "metadata": {},
     "output_type": "execute_result"
    }
   ],
   "source": [
    "type(track_info)"
   ]
  },
  {
   "cell_type": "code",
   "execution_count": 277,
   "metadata": {},
   "outputs": [
    {
     "data": {
      "text/html": [
       "<div>\n",
       "<style scoped>\n",
       "    .dataframe tbody tr th:only-of-type {\n",
       "        vertical-align: middle;\n",
       "    }\n",
       "\n",
       "    .dataframe tbody tr th {\n",
       "        vertical-align: top;\n",
       "    }\n",
       "\n",
       "    .dataframe thead th {\n",
       "        text-align: right;\n",
       "    }\n",
       "</style>\n",
       "<table border=\"1\" class=\"dataframe\">\n",
       "  <thead>\n",
       "    <tr style=\"text-align: right;\">\n",
       "      <th></th>\n",
       "      <th>year</th>\n",
       "      <th>track_name</th>\n",
       "      <th>track_popularity</th>\n",
       "      <th>album</th>\n",
       "      <th>artist_name</th>\n",
       "      <th>artist_genres</th>\n",
       "      <th>artist_popularity</th>\n",
       "      <th>danceability</th>\n",
       "      <th>energy</th>\n",
       "      <th>key</th>\n",
       "      <th>loudness</th>\n",
       "      <th>mode</th>\n",
       "      <th>speechiness</th>\n",
       "      <th>acousticness</th>\n",
       "      <th>instrumentalness</th>\n",
       "      <th>liveness</th>\n",
       "      <th>valence</th>\n",
       "      <th>tempo</th>\n",
       "      <th>duration_ms</th>\n",
       "    </tr>\n",
       "  </thead>\n",
       "  <tbody>\n",
       "    <tr>\n",
       "      <th>0</th>\n",
       "      <td>2018</td>\n",
       "      <td>Füttyös</td>\n",
       "      <td>46</td>\n",
       "      <td>Füttyös</td>\n",
       "      <td>Majka</td>\n",
       "      <td>hungarian edm</td>\n",
       "      <td>43</td>\n",
       "      <td>0.434</td>\n",
       "      <td>0.856</td>\n",
       "      <td>8</td>\n",
       "      <td>-4.761</td>\n",
       "      <td>0</td>\n",
       "      <td>0.274</td>\n",
       "      <td>0.481</td>\n",
       "      <td>0</td>\n",
       "      <td>0.4</td>\n",
       "      <td>0.736</td>\n",
       "      <td>99.175</td>\n",
       "      <td>212000</td>\n",
       "    </tr>\n",
       "    <tr>\n",
       "      <th>1</th>\n",
       "      <td>2018</td>\n",
       "      <td>Füttyös</td>\n",
       "      <td>46</td>\n",
       "      <td>Füttyös</td>\n",
       "      <td>Majka</td>\n",
       "      <td>hungarian pop</td>\n",
       "      <td>43</td>\n",
       "      <td>0.434</td>\n",
       "      <td>0.856</td>\n",
       "      <td>8</td>\n",
       "      <td>-4.761</td>\n",
       "      <td>0</td>\n",
       "      <td>0.274</td>\n",
       "      <td>0.481</td>\n",
       "      <td>0</td>\n",
       "      <td>0.4</td>\n",
       "      <td>0.736</td>\n",
       "      <td>99.175</td>\n",
       "      <td>212000</td>\n",
       "    </tr>\n",
       "  </tbody>\n",
       "</table>\n",
       "</div>"
      ],
      "text/plain": [
       "   year track_name  track_popularity    album artist_name  artist_genres  \\\n",
       "0  2018    Füttyös                46  Füttyös       Majka  hungarian edm   \n",
       "1  2018    Füttyös                46  Füttyös       Majka  hungarian pop   \n",
       "\n",
       "   artist_popularity  danceability  energy  key  loudness  mode  speechiness  \\\n",
       "0                 43         0.434   0.856    8    -4.761     0        0.274   \n",
       "1                 43         0.434   0.856    8    -4.761     0        0.274   \n",
       "\n",
       "   acousticness  instrumentalness  liveness  valence   tempo  duration_ms  \n",
       "0         0.481                 0       0.4    0.736  99.175       212000  \n",
       "1         0.481                 0       0.4    0.736  99.175       212000  "
      ]
     },
     "execution_count": 277,
     "metadata": {},
     "output_type": "execute_result"
    }
   ],
   "source": [
    "# Example usage\n",
    "track_info_df = pd.DataFrame(track_info)\n",
    "track_info_df\n"
   ]
  },
  {
   "cell_type": "markdown",
   "metadata": {},
   "source": [
    "# Preprocessing"
   ]
  },
  {
   "cell_type": "code",
   "execution_count": 278,
   "metadata": {},
   "outputs": [],
   "source": [
    "import re\n",
    "import pandas as pd\n",
    "import numpy as np\n",
    "\n",
    "# internal\n",
    "from joblib import load"
   ]
  },
  {
   "cell_type": "code",
   "execution_count": 279,
   "metadata": {},
   "outputs": [],
   "source": [
    "import re\n",
    "sklearn_pca_final = load('PCAmodel_audiofeatures.joblib')\n",
    "\n",
    "mapping = {\n",
    "    \"pop\": ['pop', 'pop punk', 'dance pop', 'europop', 'girl group', 'pop rap', 'bahamian pop', 'canadian pop', 'pop dance', 'post-teen pop', 'boy band', 'art pop', 'metropopolis', 'barbadian pop', 'viral pop', 'candy pop', 'australian pop', 'folk-pop', 'k-pop', 'bubblegum dance', 'pop dance'],\n",
    "    \"rock\": ['permanent wave', 'alternative metal', 'modern rock', 'punk', 'rock', 'socal pop punk', 'alternative rock', 'dance rock', 'pop rock', 'celtic rock', 'irish rock', 'grunge', 'uk pop', 'neo mellow', 'piano rock', 'pov: indie', 'modern alternative rock', 'neon pop punk', 'garage rock', 'indie rock', 'canadian rock', 'british invasion', 'emo', 'neo-psychedelic', 'screamo', 'glam metal', 'beatlesque', 'madchester', 'supergroup'],\n",
    "    \"country\": ['contemporary country', 'country', 'country dawn', 'country road'],\n",
    "    \"hip_hop_rap\": ['detroit hip hop', 'hip hop', 'rap', 'dirty south rap', 'hip pop', 'east coast hip hop', 'hardcore hip hop', 'gangster rap', 'west coast rap', 'st louis rap', 'trap', 'southern hip hop', 'atl hip hop', 'melodic rap', 'miami hip hop', 'chicago rap', 'canadian hip hop', 'old school atlanta hip hop', 'queens hip hop', 'crunk', 'conscious hip hop', 'trap queen', 'south carolina hip hop', 'new orleans rap', 'G Funk', 'brooklyn drill', 'hyphy', 'atlanta bass'],\n",
    "    \"rnb_soul\": ['contemporary r&b', 'r&b', 'urban contemporary', 'british soul', 'neo soul', 'pop soul', 'canadian contemporary r&b', 'soul', 'pluggnb'],\n",
    "    \"house_and_pop_fusion\": ['disco house', 'filter house', 'bouncy house', 'electro house', 'slap house', 'tropical house', 'pop dance', 'house', 'progressive house', 'indietronica', 'progressive electro house', 'uk garage', 'big room', 'complextro'],\n",
    "    \"underground_electronic\": ['electro', 'big beat', 'downtempo', 'melbourne bounce international', 'electro trash', 'grave wave', 'dark clubbing', 'ukg revival', 'hardcore techno', 'grime', 'instrumental grime', 'dancefloor dnb', 'trance', 'speed garage', 'new wave', 'bounce', 'handsup', 'chicago hardcore', 'rave', 'german techno', 'hamburg electronic', 'happy hardcore', 'industrial', 'techno'],\n",
    "    \"metal\": ['nu metal', 'post-grunge', 'rap metal', 'funk metal', 'industrial metal'],\n",
    "    \"jazz\": ['jazz', 'smooth jazz', 'bebop', 'swing', 'fusion jazz', 'stomp and holler'],\n",
    "    \"classical\": ['classical', 'baroque', 'romantic', 'symphony', 'opera'],\n",
    "    \"reggae\": ['reggae', 'dancehall', 'reggae fusion', 'dub', 'roots reggae', 'moombahton'],\n",
    "    \"latin\": ['latin', 'reggaeton', 'latin pop', 'salsa', 'bachata', 'merengue', 'tango', 'cumbia', 'trap latino', 'urbano latino', 'mexican pop', 'colombian pop', 'mambo chileno', 'urbano chileno', 'tropical'],\n",
    "    \"singer-songwriter\": ['singer-songwriter pop', 'singer-songwriter'],\n",
    "    \"folk\": ['folk', 'classic schlager', 'oktoberfest', 'schlager', 'celtic', 'middle earth', 'sertanejo', 'sertanejo universitario'],\n",
    "    \"talent show\": ['talent show']\n",
    "}\n",
    "\n",
    "# Flatten the mapping for easier access\n",
    "flat_mapping = {}\n",
    "for main_genre, subgenres in mapping.items():\n",
    "    for subgenre in subgenres:\n",
    "        flat_mapping[subgenre] = main_genre\n",
    "\n",
    "# When a \"new\" sub genre is being added with a version of the artist_genre\n",
    "\n",
    "\n",
    "def categorize_genres(genres_list, mapping):\n",
    "    genre_counts = {}\n",
    "    for genre in genres_list:\n",
    "        for subgenre, main_genre in mapping.items():\n",
    "            if re.search(r'\\b' + re.escape(subgenre) + r'\\b', genre, flags=re.IGNORECASE):\n",
    "                genre_counts[main_genre] = genre_counts.get(main_genre, 0) + 1\n",
    "    if genre_counts:\n",
    "        # Return the most frequent main genre, if tie, sorted order decides\n",
    "        return max(genre_counts, key=genre_counts.get)\n",
    "    else:\n",
    "        return \"other\"  # or \"other\" if you prefer to label unmatched genres as \"other\"\n",
    "\n",
    "# Function to categorize genres\n",
    "\n",
    "\n",
    "def categorize_genres(genres_list, mapping):\n",
    "    genre_counts = {}\n",
    "    for genre in genres_list:\n",
    "        for subgenre, main_genre in mapping.items():\n",
    "            if subgenre in genre:\n",
    "                genre_counts[main_genre] = genre_counts.get(main_genre, 0) + 1\n",
    "    if genre_counts:\n",
    "        # Return the most frequent main genre, if tie, sorted order decides\n",
    "        return max(genre_counts, key=genre_counts.get)\n",
    "    else:\n",
    "        return \"other\"  # or \"other\" if you prefer to label unmatched genres as \"other\""
   ]
  },
  {
   "cell_type": "code",
   "execution_count": 280,
   "metadata": {},
   "outputs": [],
   "source": [
    "def preprocess_data(track_data):\n",
    "    # Convert track_data into a DataFrame\n",
    "    tdata = pd.DataFrame(track_data)\n",
    "\n",
    "    # Processing\n",
    "    tdata['track_age_2024'] = 2024 - \\\n",
    "        pd.to_numeric(tdata['year'], errors='coerce')\n",
    "    tdata['dominant_genre'] = tdata['artist_genres'].apply(\n",
    "        lambda x: categorize_genres(x, flat_mapping))\n",
    "\n",
    "    key_mapping = {0: 'C', 1: 'C#', 2: 'D', 3: 'D#', 4: 'E',\n",
    "                   5: 'F', 6: 'F#', 7: 'G', 8: 'G#', 9: 'A', 10: 'A#', 11: 'B'}\n",
    "    tdata['key'] = tdata['key'].map(key_mapping)\n",
    "    mode_mapping = {0: 'min', 1: 'Maj'}\n",
    "    tdata['mode'] = tdata['mode'].map(mode_mapping)\n",
    "    tdata['tonality'] = tdata['key'] + tdata['mode']\n",
    "\n",
    "    # One Hot Encoding for 'dominant_genre' and 'tonality'\n",
    "    tdata = pd.get_dummies(tdata, columns=['dominant_genre', 'tonality'], prefix=[\n",
    "                           'genre', 'tone'], drop_first=True)\n",
    "\n",
    "    # Prepare and transform audio features with PCA\n",
    "    audio_features = ['danceability', 'energy', 'loudness', 'speechiness',\n",
    "                      'acousticness', 'instrumentalness', 'liveness', 'valence', 'tempo', 'duration_ms']\n",
    "    pca_components = sklearn_pca_final.transform(tdata[audio_features])\n",
    "    pca_feature_names = ['PC1_Energetic_Dynamic', 'PC2_Speech_Tempo',\n",
    "                         'PC3_Acoustic_Speech', 'PC4_Duration_Mood', 'PC5_Acoustic_Liveness']\n",
    "    for i, name in enumerate(pca_feature_names):\n",
    "        tdata[name] = pca_components[:, i]\n",
    "\n",
    "    # Define expected features as per model's training\n",
    "    model_features = ['genre_country', 'genre_folk', 'genre_hip_hop_rap', 'genre_house_and_pop_fusion',\n",
    "                      'genre_jazz', 'genre_latin', 'genre_metal', 'genre_other', \n",
    "                      'genre_pop', 'genre_reggae', 'genre_rnb_soul', 'genre_rock', \n",
    "                      'genre_singer-songwriter', 'genre_underground_electronic', \n",
    "                      'tone_A#min', 'tone_AMaj', 'tone_Amin', 'tone_BMaj', \n",
    "                      'tone_Bmin', 'tone_C#Maj', 'tone_C#min', 'tone_CMaj', \n",
    "                      'tone_Cmin', 'tone_D#Maj', 'tone_D#min', 'tone_DMaj', \n",
    "                      'tone_Dmin', 'tone_EMaj', 'tone_Emin', 'tone_F#Maj', \n",
    "                      'tone_F#min', 'tone_FMaj', 'tone_Fmin', 'tone_G#Maj', \n",
    "                      'tone_G#min', 'tone_GMaj', 'tone_Gmin', \n",
    "                      'PC1_Energetic_Dynamic', 'PC2_Speech_Tempo', 'PC3_Acoustic_Speech', \n",
    "                      'PC4_Duration_Mood ', 'PC5_Acoustic_Liveness']\n",
    "    # Ensure all expected features are present, adding missing ones as zeros\n",
    "    input_data = pd.DataFrame(columns=model_features)\n",
    "    \n",
    "    for column in tdata.columns:\n",
    "        if column in model_features:\n",
    "            input_data[column] = tdata[column]\n",
    "    \n",
    "    input_data.fillna(0, inplace=True)\n",
    "\n",
    "    # Reorder columns to match training\n",
    "    tdata = tdata[model_features]\n",
    "\n",
    "    return tdata"
   ]
  },
  {
   "cell_type": "code",
   "execution_count": 281,
   "metadata": {},
   "outputs": [],
   "source": [
    "def preprocess_data(track_data):\n",
    "    # Convert track_data into a DataFrame\n",
    "    tdata = pd.DataFrame(track_data)\n",
    "\n",
    "    # Processing\n",
    "    tdata['track_age_2024'] = 2024 - \\\n",
    "        pd.to_numeric(tdata['year'], errors='coerce')\n",
    "    tdata['dominant_genre'] = tdata['artist_genres'].apply(\n",
    "        lambda x: categorize_genres(x, flat_mapping))\n",
    "\n",
    "    key_mapping = {0: 'C', 1: 'C#', 2: 'D', 3: 'D#', 4: 'E',\n",
    "                   5: 'F', 6: 'F#', 7: 'G', 8: 'G#', 9: 'A', 10: 'A#', 11: 'B'}\n",
    "    tdata['key'] = tdata['key'].map(key_mapping)\n",
    "    mode_mapping = {0: 'min', 1: 'Maj'}\n",
    "    tdata['mode'] = tdata['mode'].map(mode_mapping)\n",
    "    tdata['tonality'] = tdata['key'] + tdata['mode']\n",
    "\n",
    "    # One Hot Encoding for 'dominant_genre' and 'tonality'\n",
    "    tdata = pd.get_dummies(tdata, columns=['dominant_genre', 'tonality'], prefix=[\n",
    "                           'genre', 'tone'], drop_first=True)\n",
    "\n",
    "    # Prepare and transform audio features with PCA\n",
    "    audio_features = ['danceability', 'energy', 'loudness', 'speechiness', 'acousticness', 'instrumentalness', 'liveness', 'valence', 'tempo', 'duration_ms']\n",
    "    pca_components = sklearn_pca_final.transform(tdata[audio_features])\n",
    "    pca_feature_names = ['PC1_Energetic_Dynamic', 'PC2_Speech_Tempo', 'PC3_Acoustic_Speech', 'PC4_Duration_Mood', 'PC5_Acoustic_Liveness']\n",
    "    for i, name in enumerate(pca_feature_names):\n",
    "        tdata[name] = pca_components[:, i]\n",
    "\n",
    "    # Define expected features as per model's training\n",
    "    expected_features = ['track_age_2024', 'genre_country', 'genre_folk', 'genre_hip_hop_rap', 'genre_house_and_pop_fusion', 'genre_jazz', 'genre_latin', 'genre_metal', 'genre_other', 'genre_pop', 'genre_reggae', 'genre_rnb_soul', 'genre_rock', 'genre_singer-songwriter', 'genre_underground_electronic', 'tone_A#Maj', 'tone_AMaj', 'tone_BMaj', 'tone_C#Maj', 'tone_CMaj', 'tone_D#Maj', 'tone_DMaj', 'tone_EMaj', 'tone_FMaj', 'tone_G#Maj', 'tone_GMaj', 'PC1_Energetic_Dynamic', 'PC2_Speech_Tempo', 'PC3_Acoustic_Speech', 'PC4_Duration_Mood', 'PC5_Acoustic_Liveness']\n",
    "\n",
    "    # Ensure all expected features are present, adding missing ones as zeros\n",
    "    for feature in expected_features:\n",
    "        if feature not in tdata.columns:\n",
    "            tdata[feature] = 0\n",
    "\n",
    "    # Reorder columns to match training\n",
    "    tdata = tdata[expected_features]\n",
    "\n",
    "    return tdata"
   ]
  },
  {
   "cell_type": "code",
   "execution_count": 282,
   "metadata": {},
   "outputs": [],
   "source": [
    "def preprocess_data_final(track_data):\n",
    "    # Convert track_data into a DataFrame\n",
    "    tdata = pd.DataFrame(track_data)# Ensure it's a list of dict if track_data is a single dict\n",
    "    tdata = tdata.head(1)\n",
    "\n",
    "    # Convert 'year' to 'track_age_2024'\n",
    "    tdata['track_age_2024'] = 2024 - pd.to_numeric(tdata['year'], errors='coerce')\n",
    "\n",
    "    # Apply genre categorization\n",
    "    tdata['dominant_genre'] = tdata['artist_genres'].apply(lambda x: categorize_genres(x, flat_mapping))\n",
    "\n",
    "    # Map 'key' and 'mode' to their string representations\n",
    "    key_mapping = {0: 'C', 1: 'C#', 2: 'D', 3: 'D#', 4: 'E', 5: 'F', 6: 'F#', 7: 'G', 8: 'G#', 9: 'A', 10: 'A#', 11: 'B'}\n",
    "    mode_mapping = {0: 'min', 1: 'Maj'}\n",
    "    tdata['key'] = tdata['key'].map(key_mapping)\n",
    "    tdata['mode'] = tdata['mode'].map(mode_mapping)\n",
    "    tdata['tonality'] = tdata['key'] + \"_\" + tdata['mode']\n",
    "\n",
    "    # Drop columns not used in PCA before one-hot encoding to prevent data leakage\n",
    "    tdata.drop(columns=['year', 'key', 'mode', 'track_name', 'album', 'artist_name', 'artist_genres', 'track_popularity'], inplace=True)\n",
    "\n",
    "    # One-hot encode categorical features\n",
    "    tdata = pd.get_dummies(tdata, columns=['dominant_genre', 'tonality'], prefix=['genre', 'tone'], drop_first=True)\n",
    "\n",
    "    # Prepare audio features for PCA\n",
    "    audio_features = ['danceability', 'energy', 'loudness', 'speechiness', 'acousticness', 'instrumentalness', 'liveness', 'valence', 'tempo', 'duration_ms']\n",
    "    pca_components = sklearn_pca_final.transform(tdata[audio_features])\n",
    "\n",
    "    # Add PCA components to DataFrame\n",
    "    pca_feature_names = ['PC1_Energetic_Dynamic', 'PC2_Speech_Tempo', 'PC3_Acoustic_Speech', 'PC4_Duration_Mood', 'PC5_Acoustic_Liveness']\n",
    "    for i, name in enumerate(pca_feature_names):\n",
    "        tdata[name] = pca_components[:, i]\n",
    "\n",
    "    # Drop original audio features after PCA transformation\n",
    "    tdata.drop(columns=audio_features, inplace=True)\n",
    "\n",
    "    # Ensure the order of columns matches the training dataset\n",
    "    expected_features = ['track_age_2024', 'genre_country', 'genre_folk', 'genre_hip_hop_rap', 'genre_house_and_pop_fusion', 'genre_jazz', 'genre_latin', 'genre_metal', 'genre_other', 'genre_pop', 'genre_reggae', 'genre_rnb_soul', 'genre_rock', 'genre_singer-songwriter', 'genre_underground_electronic'] + [f'tone_{tone}' for tone in ['A#min', 'AMaj', 'Amin', 'BMaj', 'Bmin', 'C#Maj', 'C#min', 'CMaj', 'Cmin', 'D#Maj', 'D#min', 'DMaj', 'Dmin', 'EMaj', 'Emin', 'F#Maj', 'F#min', 'FMaj', 'Fmin', 'G#Maj', 'G#min', 'GMaj', 'Gmin']] + ['PC1_Energetic_Dynamic', 'PC2_Speech_Tempo', 'PC3_Acoustic_Speech', 'PC4_Duration_Mood ', 'PC5_Acoustic_Liveness']\n",
    "\n",
    "    # Reorder and ensure all expected columns are present\n",
    "    for feature in expected_features:\n",
    "        if feature not in tdata.columns:\n",
    "            tdata[feature] = 0  # Add missing features as zeros\n",
    "    tdata = tdata[expected_features]\n",
    "\n",
    "    return tdata\n"
   ]
  },
  {
   "cell_type": "code",
   "execution_count": 283,
   "metadata": {},
   "outputs": [
    {
     "name": "stderr",
     "output_type": "stream",
     "text": [
      "/Users/lucazosso/opt/anaconda3/lib/python3.9/site-packages/sklearn/base.py:486: UserWarning: X has feature names, but PCA was fitted without feature names\n",
      "  warnings.warn(\n"
     ]
    }
   ],
   "source": [
    "check = preprocess_data_final(track_info_df)\n",
    "\n"
   ]
  },
  {
   "cell_type": "code",
   "execution_count": 284,
   "metadata": {},
   "outputs": [
    {
     "data": {
      "text/html": [
       "<div>\n",
       "<style scoped>\n",
       "    .dataframe tbody tr th:only-of-type {\n",
       "        vertical-align: middle;\n",
       "    }\n",
       "\n",
       "    .dataframe tbody tr th {\n",
       "        vertical-align: top;\n",
       "    }\n",
       "\n",
       "    .dataframe thead th {\n",
       "        text-align: right;\n",
       "    }\n",
       "</style>\n",
       "<table border=\"1\" class=\"dataframe\">\n",
       "  <thead>\n",
       "    <tr style=\"text-align: right;\">\n",
       "      <th></th>\n",
       "      <th>track_age_2024</th>\n",
       "      <th>genre_country</th>\n",
       "      <th>genre_folk</th>\n",
       "      <th>genre_hip_hop_rap</th>\n",
       "      <th>genre_house_and_pop_fusion</th>\n",
       "      <th>genre_jazz</th>\n",
       "      <th>genre_latin</th>\n",
       "      <th>genre_metal</th>\n",
       "      <th>genre_other</th>\n",
       "      <th>genre_pop</th>\n",
       "      <th>...</th>\n",
       "      <th>tone_Fmin</th>\n",
       "      <th>tone_G#Maj</th>\n",
       "      <th>tone_G#min</th>\n",
       "      <th>tone_GMaj</th>\n",
       "      <th>tone_Gmin</th>\n",
       "      <th>PC1_Energetic_Dynamic</th>\n",
       "      <th>PC2_Speech_Tempo</th>\n",
       "      <th>PC3_Acoustic_Speech</th>\n",
       "      <th>PC4_Duration_Mood</th>\n",
       "      <th>PC5_Acoustic_Liveness</th>\n",
       "    </tr>\n",
       "  </thead>\n",
       "  <tbody>\n",
       "    <tr>\n",
       "      <th>0</th>\n",
       "      <td>6</td>\n",
       "      <td>0</td>\n",
       "      <td>0</td>\n",
       "      <td>0</td>\n",
       "      <td>0</td>\n",
       "      <td>0</td>\n",
       "      <td>0</td>\n",
       "      <td>0</td>\n",
       "      <td>0</td>\n",
       "      <td>0</td>\n",
       "      <td>...</td>\n",
       "      <td>0</td>\n",
       "      <td>0</td>\n",
       "      <td>0</td>\n",
       "      <td>0</td>\n",
       "      <td>0</td>\n",
       "      <td>20991.867471</td>\n",
       "      <td>43436.721565</td>\n",
       "      <td>-54874.040708</td>\n",
       "      <td>0</td>\n",
       "      <td>138698.748359</td>\n",
       "    </tr>\n",
       "  </tbody>\n",
       "</table>\n",
       "<p>1 rows × 43 columns</p>\n",
       "</div>"
      ],
      "text/plain": [
       "   track_age_2024  genre_country  genre_folk  genre_hip_hop_rap  \\\n",
       "0               6              0           0                  0   \n",
       "\n",
       "   genre_house_and_pop_fusion  genre_jazz  genre_latin  genre_metal  \\\n",
       "0                           0           0            0            0   \n",
       "\n",
       "   genre_other  genre_pop  ...  tone_Fmin  tone_G#Maj  tone_G#min  tone_GMaj  \\\n",
       "0            0          0  ...          0           0           0          0   \n",
       "\n",
       "   tone_Gmin  PC1_Energetic_Dynamic  PC2_Speech_Tempo  PC3_Acoustic_Speech  \\\n",
       "0          0           20991.867471      43436.721565        -54874.040708   \n",
       "\n",
       "   PC4_Duration_Mood   PC5_Acoustic_Liveness  \n",
       "0                   0          138698.748359  \n",
       "\n",
       "[1 rows x 43 columns]"
      ]
     },
     "execution_count": 284,
     "metadata": {},
     "output_type": "execute_result"
    }
   ],
   "source": [
    "check.head(1)"
   ]
  },
  {
   "cell_type": "code",
   "execution_count": 285,
   "metadata": {},
   "outputs": [
    {
     "data": {
      "text/plain": [
       "Index(['track_age_2024', 'genre_country', 'genre_folk', 'genre_hip_hop_rap',\n",
       "       'genre_house_and_pop_fusion', 'genre_jazz', 'genre_latin',\n",
       "       'genre_metal', 'genre_other', 'genre_pop', 'genre_reggae',\n",
       "       'genre_rnb_soul', 'genre_rock', 'genre_singer-songwriter',\n",
       "       'genre_underground_electronic', 'tone_A#min', 'tone_AMaj', 'tone_Amin',\n",
       "       'tone_BMaj', 'tone_Bmin', 'tone_C#Maj', 'tone_C#min', 'tone_CMaj',\n",
       "       'tone_Cmin', 'tone_D#Maj', 'tone_D#min', 'tone_DMaj', 'tone_Dmin',\n",
       "       'tone_EMaj', 'tone_Emin', 'tone_F#Maj', 'tone_F#min', 'tone_FMaj',\n",
       "       'tone_Fmin', 'tone_G#Maj', 'tone_G#min', 'tone_GMaj', 'tone_Gmin',\n",
       "       'PC1_Energetic_Dynamic', 'PC2_Speech_Tempo', 'PC3_Acoustic_Speech',\n",
       "       'PC4_Duration_Mood ', 'PC5_Acoustic_Liveness'],\n",
       "      dtype='object')"
      ]
     },
     "execution_count": 285,
     "metadata": {},
     "output_type": "execute_result"
    }
   ],
   "source": [
    "check.columns"
   ]
  },
  {
   "cell_type": "code",
   "execution_count": 286,
   "metadata": {},
   "outputs": [],
   "source": [
    "model = load('model.joblib')"
   ]
  },
  {
   "cell_type": "code",
   "execution_count": 287,
   "metadata": {},
   "outputs": [],
   "source": [
    "def predict_pop(processed_data):\n",
    "    # Load the trained model\n",
    "    prediction = model.predict(processed_data)\n",
    "    return prediction"
   ]
  },
  {
   "cell_type": "code",
   "execution_count": 288,
   "metadata": {},
   "outputs": [
    {
     "data": {
      "text/plain": [
       "array([1.])"
      ]
     },
     "execution_count": 288,
     "metadata": {},
     "output_type": "execute_result"
    }
   ],
   "source": [
    "pred = predict_pop(check)\n",
    "pred"
   ]
  },
  {
   "cell_type": "code",
   "execution_count": 289,
   "metadata": {},
   "outputs": [
    {
     "data": {
      "text/plain": [
       "numpy.ndarray"
      ]
     },
     "execution_count": 289,
     "metadata": {},
     "output_type": "execute_result"
    }
   ],
   "source": [
    "type(pred)"
   ]
  },
  {
   "cell_type": "code",
   "execution_count": 290,
   "metadata": {},
   "outputs": [
    {
     "name": "stdout",
     "output_type": "stream",
     "text": [
      "It's a success\n"
     ]
    }
   ],
   "source": [
    "if pred == 1:\n",
    "    print(\"It's a success\")\n",
    "else:\n",
    "    print(\"The key of success is in practice, keep working a bit\")\n"
   ]
  }
 ],
 "metadata": {
  "kernelspec": {
   "display_name": "base",
   "language": "python",
   "name": "python3"
  },
  "language_info": {
   "codemirror_mode": {
    "name": "ipython",
    "version": 3
   },
   "file_extension": ".py",
   "mimetype": "text/x-python",
   "name": "python",
   "nbconvert_exporter": "python",
   "pygments_lexer": "ipython3",
   "version": "3.9.18"
  }
 },
 "nbformat": 4,
 "nbformat_minor": 2
}
